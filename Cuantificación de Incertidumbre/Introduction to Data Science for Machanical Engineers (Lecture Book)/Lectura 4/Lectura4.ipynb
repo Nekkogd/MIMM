{
 "cells": [
  {
   "cell_type": "markdown",
   "metadata": {},
   "source": [
    "# Lecture 4: Data visualization\n",
    "\n",
    "\n",
    "## Learning objectives\n",
    "\n",
    "+ Introduce the matplotlib Python library.\n",
    "+ Demonstrate how to do a line plot.\n",
    "+ Demonstrate how to do a scatter plot.\n",
    "+ Explain what a histogram is.\n",
    "+ Demonstrate how to plot a histogram.\n",
    "+ Explain how we can compare two histograms."
   ]
  },
  {
   "cell_type": "markdown",
   "metadata": {},
   "source": []
  }
 ],
 "metadata": {
  "kernelspec": {
   "display_name": "Python 3.8.10 64-bit",
   "language": "python",
   "name": "python3"
  },
  "language_info": {
   "name": "python",
   "version": "3.8.10"
  },
  "orig_nbformat": 4,
  "vscode": {
   "interpreter": {
    "hash": "916dbcbb3f70747c44a77c7bcd40155683ae19c65e1c03b4aa3499c5328201f1"
   }
  }
 },
 "nbformat": 4,
 "nbformat_minor": 2
}
