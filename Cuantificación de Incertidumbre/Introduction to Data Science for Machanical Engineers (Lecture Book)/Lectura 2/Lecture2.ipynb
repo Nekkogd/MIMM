{
 "cells": [
  {
   "cell_type": "markdown",
   "metadata": {},
   "source": [
    "# Lecture 2: Data arrays\n",
    "\n",
    "## Learning objectives\n",
    "\n",
    "+ Introduce the sequence data types.\n",
    "+ Demonstrate basic indexing of sequences.\n",
    "+ Introduce numerical arrays.\n",
    "+ Demonstrate basic math with numerical arrays."
   ]
  },
  {
   "cell_type": "markdown",
   "metadata": {},
   "source": []
  }
 ],
 "metadata": {
  "language_info": {
   "name": "python"
  },
  "orig_nbformat": 4
 },
 "nbformat": 4,
 "nbformat_minor": 2
}
