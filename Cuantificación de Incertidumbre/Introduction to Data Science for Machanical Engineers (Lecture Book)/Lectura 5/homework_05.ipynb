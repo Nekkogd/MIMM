{
 "cells": [
  {
   "cell_type": "markdown",
   "id": "acc9da23",
   "metadata": {},
   "source": [
    "(lecture05:homework)=\n",
    "# Homework 5\n",
    "\n",
    "+ Type your name and email in the \"Student details\" section below.\n",
    "+ Develop the code and generate the figures you need to solve the problems using this notebook.\n",
    "+ For the answers that require a mathematical proof or derivation you can either:\n",
    "    \n",
    "    - Type the answer using the built-in latex capabilities. In this case, simply export the notebook as a pdf and upload it on gradescope; or\n",
    "    - You can print the notebook (after you are done with all the code), write your answers by hand, scan, turn your response to a single pdf, and upload on gradescope.\n",
    "\n",
    "+ The total homework points are 100. Please note that the problems are not weighed equally.\n",
    "\n",
    "```{note}\n",
    "+ This is due before the beginning of the next lecture.\n",
    "+ Please match all the pages corresponding to each of the questions when you submit on gradescope.\n",
    "```"
   ]
  },
  {
   "cell_type": "markdown",
   "id": "2f297fc6",
   "metadata": {},
   "source": [
    "## Student details\n",
    "\n",
    "+ **First Name:**\n",
    "+ **Last Name:**\n",
    "+ **Email:**"
   ]
  },
  {
   "cell_type": "markdown",
   "id": "c059c673",
   "metadata": {},
   "source": [
    "Again, let me set you up with some code for plotting and downloading files."
   ]
  },
  {
   "cell_type": "code",
   "execution_count": null,
   "id": "e07c5e9a",
   "metadata": {},
   "outputs": [],
   "source": [
    "import matplotlib.pyplot as plt\n",
    "%matplotlib inline\n",
    "import seaborn as sns\n",
    "sns.set(rc={\"figure.dpi\":100, 'savefig.dpi':300})\n",
    "sns.set_context('notebook')\n",
    "sns.set_style(\"ticks\")\n",
    "from IPython.display import set_matplotlib_formats\n",
    "set_matplotlib_formats('retina', 'svg')\n",
    "\n",
    "import requests\n",
    "import os\n",
    "\n",
    "def download(url, local_filename=None):\n",
    "    \"\"\"\n",
    "    Downloads the file in the ``url`` and saves it in the current working directory.\n",
    "    \"\"\"\n",
    "    data = requests.get(url)\n",
    "    if local_filename is None:\n",
    "        local_filename = os.path.basename(url)\n",
    "    with open(local_filename, 'wb') as fd:\n",
    "        fd.write(data.content)"
   ]
  },
  {
   "cell_type": "markdown",
   "id": "39f4ed02",
   "metadata": {},
   "source": [
    "## Problem 1 - Analysis of experimental srtess-strain curves of alluminum 6061-T651\n",
    "\n",
    "We are going to analyze the dataset collected by {cite}`AAKASH2019104085`.\n",
    "They perform two types of experiments.\n",
    "We are going to focus on the \"uniaxial tension experiment.\" \n",
    "This is what it is all about:\n",
    "+ They take several speciments of alluminum 6061-T651 ([a high-temperature alluminum alloy](https://en.wikipedia.org/wiki/6061_aluminium_alloy)).\n",
    "+ The shape of these speciments is like this:\n",
    "\n",
    "```{figure} https://ars.els-cdn.com/content/image/1-s2.0-S2352340919304391-gr1_lrg.jpg\n",
    "---\n",
    "height: 300px\n",
    "name: directive-fig\n",
    "---\n",
    "Geometry of the uniaxial tension specimen.\n",
    "```\n",
    "+ They mounted the speciment (using the holes you see on the sides) on a machine that applied tension:\n",
    "\n",
    "```{figure} https://ars.els-cdn.com/content/image/1-s2.0-S2352340919304391-gr5_lrg.jpg\n",
    "---\n",
    "height: 300px\n",
    "name: directive-fig2\n",
    "---\n",
    "The mounted specimen.\n",
    "```\n",
    "+ They controlled the temperature of the specimen.\n",
    "+ They applied tension gradually until the speciment broke, recorging at each step the strain (% change in length) and the stress (force per cross section area in MPa - megaPascal).\n",
    "\n",
    "I suggest that you skim through the paper if you want to understand more about the details of the experiment.\n",
    "Measuring the strains and stresses is not as straightforward as it sounds...\n",
    "\n",
    "Our goal is to download the data, and for a fixed temperature, create a model for the stress-strain relation.\n",
    "We are going to do some of the low level stuff.\n",
    "But, I am going to guide you through this."
   ]
  },
  {
   "cell_type": "markdown",
   "id": "cbc08c69",
   "metadata": {},
   "source": [
    "+ First, download the complete zipped data from [here](https://data.mendeley.com/datasets/rd6jm9tyb6/2) and unzip it in the directory of your Jupyter notebook.\n",
    "You have two options. Either do it mannually as we did in {ref}`lecture03:homework` or run the code segment below to do it from this Jupyter notebook:"
   ]
  },
  {
   "cell_type": "code",
   "execution_count": null,
   "id": "ad907c7c",
   "metadata": {},
   "outputs": [],
   "source": [
    "url = 'https://md-datasets-cache-zipfiles-prod.s3.eu-west-1.amazonaws.com/rd6jm9tyb6-2.zip'\n",
    "download(url)\n",
    "!unzip -o rd6jm9tyb6-2.zip\n",
    "!unzip -o stress-strain-curves-of-aluminum-6061-t651-from-9-lots-at-6-temperatures-under-uniaxial-and-plain-strain-tension.zip"
   ]
  },
  {
   "cell_type": "markdown",
   "id": "1081af88",
   "metadata": {},
   "source": [
    "+ Now read the data description [here](https://data.mendeley.com/datasets/rd6jm9tyb6/2) very carefully and find a filename that contains data from a uniaxial tension test of 200 degrees C. There multiple files that fit this description. Just pick one of them."
   ]
  },
  {
   "cell_type": "code",
   "execution_count": null,
   "id": "15c33c30",
   "metadata": {},
   "outputs": [],
   "source": [
    "filename = # your choice here\n",
    "print('The file I picked is: ', filename)"
   ]
  },
  {
   "cell_type": "markdown",
   "id": "4e065027",
   "metadata": {},
   "source": [
    "+ Load the file in a dataframe and print it."
   ]
  },
  {
   "cell_type": "code",
   "execution_count": null,
   "id": "83e114db",
   "metadata": {},
   "outputs": [],
   "source": [
    "# your code here"
   ]
  },
  {
   "cell_type": "markdown",
   "id": "fb99732d",
   "metadata": {},
   "source": [
    "+ Plot the stress as a function of the strain. Hint: Please label your axes properly."
   ]
  },
  {
   "cell_type": "code",
   "execution_count": null,
   "id": "cb3bce75",
   "metadata": {},
   "outputs": [],
   "source": [
    "# your code here"
   ]
  },
  {
   "cell_type": "markdown",
   "id": "c5eeaac7",
   "metadata": {},
   "source": [
    "+ The [ultimate tensile strength](https://en.wikipedia.org/wiki/Ultimate_tensile_strength) (or just \"the strength\") of a material is the maximum stress that develops under tension before the material breaks. What is the strength of this alluminum alloy? Please, provide your answer below using the `print()` function with a precision of 2 decimal points. How does your answer compare with the strength range for allumunum alloys reported in [wikipedia](https://en.wikipedia.org/wiki/6061_aluminium_alloy)?"
   ]
  },
  {
   "cell_type": "code",
   "execution_count": null,
   "id": "387cff97",
   "metadata": {},
   "outputs": [],
   "source": [
    "# your code here"
   ]
  },
  {
   "cell_type": "markdown",
   "id": "5c0f2309",
   "metadata": {},
   "source": [
    "+ Let's zoom in to low strains. Plot the first 200 observations points of the stress-strain curve. "
   ]
  },
  {
   "cell_type": "code",
   "execution_count": null,
   "id": "200f7b5f",
   "metadata": {},
   "outputs": [],
   "source": [
    "# your code here"
   ]
  },
  {
   "cell_type": "markdown",
   "id": "218dc702",
   "metadata": {},
   "source": [
    "+ Observe that the experimental data are behaving strangely at very small strains. As a matter of fact, we are getting a few negative strains at the beginning.\n",
    "Let's throw these observartions away. Start by finding the index $i$ for which `df['Strain'][i]` becomes positive from the first time. You can do this by a visual inspection of `df['Strain'][:30]`."
   ]
  },
  {
   "cell_type": "code",
   "execution_count": null,
   "id": "b45808bd",
   "metadata": {},
   "outputs": [],
   "source": [
    "# your code here"
   ]
  },
  {
   "cell_type": "markdown",
   "id": "43e119cf",
   "metadata": {},
   "source": [
    "+ Make a new dataframe, call it `clean_df` where you have thrown away the initial data. Then plot the first 200 observations of `clean_df`."
   ]
  },
  {
   "cell_type": "code",
   "execution_count": null,
   "id": "f5edfe49",
   "metadata": {},
   "outputs": [],
   "source": [
    "# your code here"
   ]
  },
  {
   "cell_type": "markdown",
   "id": "a3ba4e38",
   "metadata": {},
   "source": [
    "+ Observe that initially the stress-strain relation is linear. This is the so-called *elastic regime*.\n",
    "If you deform the material within this regime, it will return to its undeformed state without any permanent deformation effects.\n",
    "If you deform the material beyond the elastic regime, then you start having what we call *plasticity*.\n",
    "We are now going to focus exclusively to the linear regime.\n",
    "Find an index $j$ so that `clean_df[:j]` is fully within the linear regime.\n",
    "Make a new dataframe, say `linear_df` containing only these data.\n",
    "You should probably pick $j$ by visual inspection.\n",
    "And it is not important to pick the maximum $j$ with this property.\n",
    "Just find one."
   ]
  },
  {
   "cell_type": "code",
   "execution_count": null,
   "id": "7be0a182",
   "metadata": {},
   "outputs": [],
   "source": [
    "# your code here"
   ]
  },
  {
   "cell_type": "markdown",
   "id": "572a542f",
   "metadata": {},
   "source": [
    "+ In the elastic regime, the stress $\\sigma$ is a linear function of the strain $\\epsilon$:\n",
    "\n",
    "$$\n",
    "\\sigma = E\\epsilon.\n",
    "$$\n",
    "\n",
    "The constant $E$ is called Young's modulus and it has units of GPa (GigaPascal).\n",
    "Make a function `sigma(epsilon, E)` that calculates the stress given the strain for any Young's modulus. Hint: Properly document the docstring of your function."
   ]
  },
  {
   "cell_type": "code",
   "execution_count": null,
   "id": "e08e7b6c",
   "metadata": {},
   "outputs": [],
   "source": [
    "# your code here"
   ]
  },
  {
   "cell_type": "code",
   "execution_count": null,
   "id": "bdb8fa61",
   "metadata": {},
   "outputs": [],
   "source": [
    "# Try your function here:\n",
    "sigma(linear_df['Strain'], 68)"
   ]
  },
  {
   "cell_type": "markdown",
   "id": "3ed28d14",
   "metadata": {},
   "source": [
    "+ If you pay close attention to the data in `linear_df` they do not cross zero.\n",
    "This is due to a systematic bias in the experiment.\n",
    "However, this bias is not important for calibrating Young's modulus $E$.\n",
    "Only the slope of the curve is important for finding $E$.\n",
    "So, let's make yet another dataframe (I promise you this is the last one) called `clean_linear_df` which removes this systematic bias.\n",
    "The dataframe `clean_linear_df` should contain the same data as `linear_df` but\n",
    "    + The strains should all shifted by the minimum strain in `linear_df`. In other words, subtract from the strains in `clean_linear_df` the smallest strain in `linear_df`, i.e., subtract `linear_df['Strain'].min()`.\n",
    "    + The stresses should all be shifted by the minimum stress in `linear_df`."
   ]
  },
  {
   "cell_type": "code",
   "execution_count": null,
   "id": "235281aa",
   "metadata": {},
   "outputs": [],
   "source": [
    "# your code here"
   ]
  },
  {
   "cell_type": "markdown",
   "id": "2a690ce7",
   "metadata": {},
   "source": [
    "+ Use visual inspection to find a value for the Young's modulus that matches the data in `clean_linear_df`.\n",
    "Hints: Remember that the stress $\\sigma$ is in MPa so you will have to change the units correctly if you $E$ is expressed in GPa."
   ]
  },
  {
   "cell_type": "code",
   "execution_count": null,
   "id": "b9aed495",
   "metadata": {},
   "outputs": [],
   "source": [
    "# your code here"
   ]
  },
  {
   "cell_type": "markdown",
   "id": "6b709568",
   "metadata": {},
   "source": [
    "+ How does what you found compare to the [wikipedia](https://en.wikipedia.org/wiki/6061_aluminium_alloy) reported Young's modulus for this material? Why do you think your is lower/higher? You may want to repeat the analysis above for another experiment with lower temperature (say at room temperature)."
   ]
  },
  {
   "cell_type": "code",
   "execution_count": null,
   "id": "0a7a8154",
   "metadata": {},
   "outputs": [],
   "source": [
    "# your answer here"
   ]
  }
 ],
 "metadata": {
  "kernelspec": {
   "display_name": "Python 3",
   "language": "python",
   "name": "python3"
  },
  "language_info": {
   "codemirror_mode": {
    "name": "ipython",
    "version": 3
   },
   "file_extension": ".py",
   "mimetype": "text/x-python",
   "name": "python",
   "nbconvert_exporter": "python",
   "pygments_lexer": "ipython3",
   "version": "3.8.8"
  }
 },
 "nbformat": 4,
 "nbformat_minor": 5
}
