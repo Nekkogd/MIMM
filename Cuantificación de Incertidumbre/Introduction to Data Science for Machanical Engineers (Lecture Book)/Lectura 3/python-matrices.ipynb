{
 "cells": [
  {
   "cell_type": "markdown",
   "metadata": {},
   "source": [
    "(lecture03:matrices)=\n",
    "# Matrices\n",
    "\n",
    "Matrices are used to represent data tables.\n",
    "You can think of the columns as different data features/characteristics and the rows as different entries.\n",
    "You can also use matrices together with vectors to represent linear systems of equations.\n",
    "So, let's learn about them.\n",
    "\n",
    "Let's make a matrix to play with:"
   ]
  },
  {
   "cell_type": "code",
   "execution_count": 1,
   "metadata": {},
   "outputs": [
    {
     "data": {
      "text/plain": [
       "array([[0.19151945, 0.62210877, 0.43772774, 0.78535858, 0.77997581,\n",
       "        0.27259261],\n",
       "       [0.27646426, 0.80187218, 0.95813935, 0.87593263, 0.35781727,\n",
       "        0.50099513],\n",
       "       [0.68346294, 0.71270203, 0.37025075, 0.56119619, 0.50308317,\n",
       "        0.01376845],\n",
       "       [0.77282662, 0.88264119, 0.36488598, 0.61539618, 0.07538124,\n",
       "        0.36882401]])"
      ]
     },
     "execution_count": 1,
     "metadata": {},
     "output_type": "execute_result"
    }
   ],
   "source": [
    "import numpy as np\n",
    "np.random.seed(1234) # This is to ensure reproducibility \n",
    "                     # of the random numbers\n",
    "A = np.random.rand(4, 6)\n",
    "A"
   ]
  },
  {
   "cell_type": "markdown",
   "metadata": {},
   "source": [
    "Notice that we used an list of rows and each row was a list of numbers.\n",
    "Here are the dimensions of ``A``:"
   ]
  },
  {
   "cell_type": "code",
   "execution_count": 2,
   "metadata": {},
   "outputs": [
    {
     "data": {
      "text/plain": [
       "2"
      ]
     },
     "execution_count": 2,
     "metadata": {},
     "output_type": "execute_result"
    }
   ],
   "source": [
    "A.ndim"
   ]
  },
  {
   "cell_type": "code",
   "execution_count": 3,
   "metadata": {},
   "outputs": [
    {
     "data": {
      "text/plain": [
       "(4, 6)"
      ]
     },
     "execution_count": 3,
     "metadata": {},
     "output_type": "execute_result"
    }
   ],
   "source": [
    "A.shape"
   ]
  },
  {
   "cell_type": "markdown",
   "metadata": {},
   "source": [
    "You see that ``A.shape`` has two entries. The first is the number of matrix rows and the second is the number of matrix columns. "
   ]
  },
  {
   "cell_type": "markdown",
   "metadata": {},
   "source": [
    "Let's access some elements of ``A``:"
   ]
  },
  {
   "cell_type": "code",
   "execution_count": 4,
   "metadata": {},
   "outputs": [
    {
     "data": {
      "text/plain": [
       "0.1915194503788923"
      ]
     },
     "execution_count": 4,
     "metadata": {},
     "output_type": "execute_result"
    }
   ],
   "source": [
    "A[0, 0]"
   ]
  },
  {
   "cell_type": "code",
   "execution_count": 5,
   "metadata": {},
   "outputs": [
    {
     "data": {
      "text/plain": [
       "0.37025075479039493"
      ]
     },
     "execution_count": 5,
     "metadata": {},
     "output_type": "execute_result"
    }
   ],
   "source": [
    "A[2, 2]"
   ]
  },
  {
   "cell_type": "markdown",
   "metadata": {},
   "source": [
    "You can access the 3rd row like this:"
   ]
  },
  {
   "cell_type": "code",
   "execution_count": 6,
   "metadata": {},
   "outputs": [
    {
     "data": {
      "text/plain": [
       "array([0.68346294, 0.71270203, 0.37025075, 0.56119619, 0.50308317,\n",
       "       0.01376845])"
      ]
     },
     "execution_count": 6,
     "metadata": {},
     "output_type": "execute_result"
    }
   ],
   "source": [
    "A[2]"
   ]
  },
  {
   "cell_type": "markdown",
   "metadata": {},
   "source": [
    "Here is how you can get a the third column:"
   ]
  },
  {
   "cell_type": "code",
   "execution_count": 7,
   "metadata": {},
   "outputs": [
    {
     "data": {
      "text/plain": [
       "array([0.43772774, 0.95813935, 0.37025075, 0.36488598])"
      ]
     },
     "execution_count": 7,
     "metadata": {},
     "output_type": "execute_result"
    }
   ],
   "source": [
    "A[:, 2]"
   ]
  },
  {
   "cell_type": "markdown",
   "metadata": {},
   "source": [
    "You can get a submatrix, say the first 3x3 submatrix like this:"
   ]
  },
  {
   "cell_type": "code",
   "execution_count": 8,
   "metadata": {},
   "outputs": [
    {
     "data": {
      "text/plain": [
       "array([[0.19151945, 0.62210877, 0.43772774],\n",
       "       [0.27646426, 0.80187218, 0.95813935],\n",
       "       [0.68346294, 0.71270203, 0.37025075]])"
      ]
     },
     "execution_count": 8,
     "metadata": {},
     "output_type": "execute_result"
    }
   ],
   "source": [
    "A[:3, :3]"
   ]
  },
  {
   "cell_type": "markdown",
   "metadata": {},
   "source": [
    "And so on.\n",
    "\n",
    "You can multiply matrices with numbers:"
   ]
  },
  {
   "cell_type": "code",
   "execution_count": 9,
   "metadata": {},
   "outputs": [
    {
     "data": {
      "text/plain": [
       "array([[0.3830389 , 1.24421754, 0.87545548, 1.57071717, 1.55995162,\n",
       "        0.54518521],\n",
       "       [0.55292851, 1.60374436, 1.91627871, 1.75186527, 0.71563454,\n",
       "        1.00199025],\n",
       "       [1.36692587, 1.42540405, 0.74050151, 1.12239237, 1.00616633,\n",
       "        0.0275369 ],\n",
       "       [1.54565324, 1.76528238, 0.72977197, 1.23079236, 0.15076248,\n",
       "        0.73764801]])"
      ]
     },
     "execution_count": 9,
     "metadata": {},
     "output_type": "execute_result"
    }
   ],
   "source": [
    "2.0 * A"
   ]
  },
  {
   "cell_type": "code",
   "execution_count": 10,
   "metadata": {},
   "outputs": [
    {
     "data": {
      "text/plain": [
       "array([[0.57455835, 1.86632631, 1.31318322, 2.35607575, 2.33992742,\n",
       "        0.81777782],\n",
       "       [0.82939277, 2.40561653, 2.87441806, 2.6277979 , 1.07345181,\n",
       "        1.50298538],\n",
       "       [2.05038881, 2.13810608, 1.11075226, 1.68358856, 1.5092495 ,\n",
       "        0.04130535],\n",
       "       [2.31847986, 2.64792357, 1.09465795, 1.84618854, 0.22614372,\n",
       "        1.10647202]])"
      ]
     },
     "execution_count": 10,
     "metadata": {},
     "output_type": "execute_result"
    }
   ],
   "source": [
    "A * 3.0"
   ]
  },
  {
   "cell_type": "markdown",
   "metadata": {},
   "source": [
    "You can raise them to a power:"
   ]
  },
  {
   "cell_type": "code",
   "execution_count": 11,
   "metadata": {},
   "outputs": [
    {
     "data": {
      "text/plain": [
       "array([[7.02487596e-03, 2.40768115e-01, 8.38710745e-02, 4.84399833e-01,\n",
       "        4.74507846e-01, 2.02554647e-02],\n",
       "       [2.11308499e-02, 5.15603000e-01, 8.79601649e-01, 6.72066304e-01,\n",
       "        4.58124896e-02, 1.25747831e-01],\n",
       "       [3.19260289e-01, 3.62012846e-01, 5.07560548e-02, 1.76743777e-01,\n",
       "        1.27326662e-01, 2.61008780e-06],\n",
       "       [4.61579191e-01, 6.87626449e-01, 4.85815698e-02, 2.33058198e-01,\n",
       "        4.28341211e-04, 5.01715527e-02]])"
      ]
     },
     "execution_count": 11,
     "metadata": {},
     "output_type": "execute_result"
    }
   ],
   "source": [
    "A ** 3"
   ]
  },
  {
   "cell_type": "markdown",
   "metadata": {},
   "source": [
    "You can pass them through functions:"
   ]
  },
  {
   "cell_type": "code",
   "execution_count": 12,
   "metadata": {},
   "outputs": [
    {
     "data": {
      "text/plain": [
       "array([[1.21108839, 1.86285223, 1.54918307, 2.19319324, 2.18141949,\n",
       "        1.31336508],\n",
       "       [1.31845982, 2.22971144, 2.60684155, 2.40111361, 1.43020426,\n",
       "        1.65036277],\n",
       "       [1.98072499, 2.03949459, 1.44809769, 1.75276788, 1.6538124 ,\n",
       "        1.01386367],\n",
       "       [2.16587973, 2.41727577, 1.44034978, 1.85038954, 1.07829516,\n",
       "        1.44603309]])"
      ]
     },
     "execution_count": 12,
     "metadata": {},
     "output_type": "execute_result"
    }
   ],
   "source": [
    "np.exp(A)"
   ]
  },
  {
   "cell_type": "markdown",
   "metadata": {},
   "source": [
    "You can add them together:"
   ]
  },
  {
   "cell_type": "code",
   "execution_count": 13,
   "metadata": {},
   "outputs": [
    {
     "data": {
      "text/plain": [
       "array([[0.3830389 , 1.24421754, 0.87545548, 1.57071717, 1.55995162,\n",
       "        0.54518521],\n",
       "       [0.55292851, 1.60374436, 1.91627871, 1.75186527, 0.71563454,\n",
       "        1.00199025],\n",
       "       [1.36692587, 1.42540405, 0.74050151, 1.12239237, 1.00616633,\n",
       "        0.0275369 ],\n",
       "       [1.54565324, 1.76528238, 0.72977197, 1.23079236, 0.15076248,\n",
       "        0.73764801]])"
      ]
     },
     "execution_count": 13,
     "metadata": {},
     "output_type": "execute_result"
    }
   ],
   "source": [
    "A + A"
   ]
  },
  {
   "cell_type": "markdown",
   "metadata": {},
   "source": [
    "You can multiply them together (assuming that the dimensions match):"
   ]
  },
  {
   "cell_type": "code",
   "execution_count": 14,
   "metadata": {},
   "outputs": [
    {
     "data": {
      "text/plain": [
       "array([[ 0.19342138,  0.55343891,  1.31815155, -0.46930528,  0.67555409,\n",
       "        -1.81702723],\n",
       "       [-0.18310854,  1.05896919, -0.39784023,  0.33743765,  1.04757857,\n",
       "         1.04593826],\n",
       "       [ 0.86371729, -0.12209157,  0.12471295, -0.32279481,  0.84167471,\n",
       "         2.39096052],\n",
       "       [ 0.07619959, -0.56644593,  0.03614194, -2.0749776 ,  0.2477922 ,\n",
       "        -0.89715678],\n",
       "       [-0.13679483,  0.01828919,  0.75541398,  0.21526858,  0.84100879,\n",
       "        -1.44581008],\n",
       "       [-1.40197328, -0.1009182 , -0.54824245, -0.14461951,  0.35402033,\n",
       "        -0.03551303]])"
      ]
     },
     "execution_count": 14,
     "metadata": {},
     "output_type": "execute_result"
    }
   ],
   "source": [
    "B = np.random.randn(A.shape[1], 6)\n",
    "B"
   ]
  },
  {
   "cell_type": "code",
   "execution_count": 15,
   "metadata": {},
   "outputs": [
    {
     "data": {
      "text/plain": [
       "array([[-0.12781667,  0.25323786,  0.52768426, -1.5223738 ,  2.0965895 ,\n",
       "        -0.49268621],\n",
       "       [ 0.04962235,  0.34499945,  0.19218844, -1.98141413,  2.52857154,\n",
       "         1.3062625 ],\n",
       "       [ 0.27612724,  0.77770417,  1.05631158, -1.25793799,  2.08698996,\n",
       "        -0.84250615],\n",
       "       [-0.17747985,  0.93342159,  0.59003913, -1.49668376,  2.10029534,\n",
       "        -0.28282272]])"
      ]
     },
     "execution_count": 15,
     "metadata": {},
     "output_type": "execute_result"
    }
   ],
   "source": [
    "C = A.dot(B)\n",
    "C"
   ]
  },
  {
   "cell_type": "code",
   "execution_count": 16,
   "metadata": {},
   "outputs": [
    {
     "data": {
      "text/plain": [
       "(4, 6)"
      ]
     },
     "execution_count": 16,
     "metadata": {},
     "output_type": "execute_result"
    }
   ],
   "source": [
    "C.shape"
   ]
  },
  {
   "cell_type": "markdown",
   "metadata": {},
   "source": [
    "You can multiply a matrix with a vector:"
   ]
  },
  {
   "cell_type": "code",
   "execution_count": 17,
   "metadata": {},
   "outputs": [
    {
     "data": {
      "text/plain": [
       "array([ 0.56573831,  1.5456588 , -0.97423633, -0.07034488,  0.30796886,\n",
       "       -0.20849876])"
      ]
     },
     "execution_count": 17,
     "metadata": {},
     "output_type": "execute_result"
    }
   ],
   "source": [
    "a = np.random.randn(A.shape[1])\n",
    "a"
   ]
  },
  {
   "cell_type": "code",
   "execution_count": 18,
   "metadata": {},
   "outputs": [
    {
     "data": {
      "text/plain": [
       "array([0.7715946 , 0.40649538, 1.24012955, 1.34902033])"
      ]
     },
     "execution_count": 18,
     "metadata": {},
     "output_type": "execute_result"
    }
   ],
   "source": [
    "A.dot(a)"
   ]
  },
  {
   "cell_type": "markdown",
   "metadata": {},
   "source": [
    "You can also interchange the rows of a matrix with each columns.\n",
    "Let's make a new matrix for this:"
   ]
  },
  {
   "cell_type": "code",
   "execution_count": 19,
   "metadata": {},
   "outputs": [
    {
     "data": {
      "text/plain": [
       "array([[0.19151945, 0.27646426, 0.68346294, 0.77282662],\n",
       "       [0.62210877, 0.80187218, 0.71270203, 0.88264119],\n",
       "       [0.43772774, 0.95813935, 0.37025075, 0.36488598],\n",
       "       [0.78535858, 0.87593263, 0.56119619, 0.61539618],\n",
       "       [0.77997581, 0.35781727, 0.50308317, 0.07538124],\n",
       "       [0.27259261, 0.50099513, 0.01376845, 0.36882401]])"
      ]
     },
     "execution_count": 19,
     "metadata": {},
     "output_type": "execute_result"
    }
   ],
   "source": [
    "A.T"
   ]
  },
  {
   "cell_type": "code",
   "execution_count": 20,
   "metadata": {},
   "outputs": [
    {
     "data": {
      "text/plain": [
       "(6, 4)"
      ]
     },
     "execution_count": 20,
     "metadata": {},
     "output_type": "execute_result"
    }
   ],
   "source": [
    "A.T.shape"
   ]
  },
  {
   "cell_type": "markdown",
   "metadata": {},
   "source": [
    "There are some special numpy functions for creating arrays.\n",
    "Here is how to make an array of zeros:"
   ]
  },
  {
   "cell_type": "code",
   "execution_count": 21,
   "metadata": {},
   "outputs": [
    {
     "data": {
      "text/plain": [
       "array([[0., 0., 0., 0., 0.],\n",
       "       [0., 0., 0., 0., 0.],\n",
       "       [0., 0., 0., 0., 0.],\n",
       "       [0., 0., 0., 0., 0.]])"
      ]
     },
     "execution_count": 21,
     "metadata": {},
     "output_type": "execute_result"
    }
   ],
   "source": [
    "np.zeros((4, 5))"
   ]
  },
  {
   "cell_type": "markdown",
   "metadata": {},
   "source": [
    "An array of ones:"
   ]
  },
  {
   "cell_type": "code",
   "execution_count": 22,
   "metadata": {},
   "outputs": [
    {
     "data": {
      "text/plain": [
       "array([[1., 1.],\n",
       "       [1., 1.],\n",
       "       [1., 1.],\n",
       "       [1., 1.],\n",
       "       [1., 1.]])"
      ]
     },
     "execution_count": 22,
     "metadata": {},
     "output_type": "execute_result"
    }
   ],
   "source": [
    "np.ones((5, 2))"
   ]
  },
  {
   "cell_type": "markdown",
   "metadata": {},
   "source": [
    "A unit matrix:"
   ]
  },
  {
   "cell_type": "code",
   "execution_count": 23,
   "metadata": {},
   "outputs": [
    {
     "data": {
      "text/plain": [
       "array([[1., 0., 0., 0., 0.],\n",
       "       [0., 1., 0., 0., 0.],\n",
       "       [0., 0., 1., 0., 0.],\n",
       "       [0., 0., 0., 1., 0.],\n",
       "       [0., 0., 0., 0., 1.]])"
      ]
     },
     "execution_count": 23,
     "metadata": {},
     "output_type": "execute_result"
    }
   ],
   "source": [
    "np.eye(5)"
   ]
  },
  {
   "cell_type": "markdown",
   "metadata": {},
   "source": [
    "There are some useful functions that can be applied to matrices.\n",
    "For example, here is how you can sum all the elements of a matrix:"
   ]
  },
  {
   "cell_type": "code",
   "execution_count": 24,
   "metadata": {},
   "outputs": [
    {
     "data": {
      "text/plain": [
       "12.78492251426415"
      ]
     },
     "execution_count": 24,
     "metadata": {},
     "output_type": "execute_result"
    }
   ],
   "source": [
    "A.sum()"
   ]
  },
  {
   "cell_type": "markdown",
   "metadata": {},
   "source": [
    "But what if you wanted to sum all the rows for each column?\n",
    "You can do it like this:"
   ]
  },
  {
   "cell_type": "code",
   "execution_count": 25,
   "metadata": {},
   "outputs": [
    {
     "data": {
      "text/plain": [
       "array([1.92427326, 3.01932417, 2.13100383, 2.83788358, 1.71625749,\n",
       "       1.15618019])"
      ]
     },
     "execution_count": 25,
     "metadata": {},
     "output_type": "execute_result"
    }
   ],
   "source": [
    "A.sum(axis=0)"
   ]
  },
  {
   "cell_type": "markdown",
   "metadata": {},
   "source": [
    "Let's convince ourselves that this works as expected by working say on the third column of A.\n",
    "Here is the code to get the third row:"
   ]
  },
  {
   "cell_type": "code",
   "execution_count": 26,
   "metadata": {},
   "outputs": [
    {
     "data": {
      "text/plain": [
       "array([0.43772774, 0.95813935, 0.37025075, 0.36488598])"
      ]
     },
     "execution_count": 26,
     "metadata": {},
     "output_type": "execute_result"
    }
   ],
   "source": [
    "A[:, 2]"
   ]
  },
  {
   "cell_type": "markdown",
   "metadata": {},
   "source": [
    "Let's sum it up:"
   ]
  },
  {
   "cell_type": "code",
   "execution_count": 27,
   "metadata": {},
   "outputs": [
    {
     "data": {
      "text/plain": [
       "2.1310038313825865"
      ]
     },
     "execution_count": 27,
     "metadata": {},
     "output_type": "execute_result"
    }
   ],
   "source": [
    "A[:, 2].sum()"
   ]
  },
  {
   "cell_type": "markdown",
   "metadata": {},
   "source": [
    "Is this the same as the the third element of ``A.sum(axis=0)``?"
   ]
  },
  {
   "cell_type": "markdown",
   "metadata": {},
   "source": [
    "Okay, so when we do ``sum(axis=0)`` we are saying sum over the axis 0 of the matrix, which corresponds to the rows.\n",
    "What if we wanted to sum over the columns.\n",
    "We could do this:"
   ]
  },
  {
   "cell_type": "code",
   "execution_count": 28,
   "metadata": {},
   "outputs": [
    {
     "data": {
      "text/plain": [
       "array([3.08928296, 3.77122082, 2.84446352, 3.07995522])"
      ]
     },
     "execution_count": 28,
     "metadata": {},
     "output_type": "execute_result"
    }
   ],
   "source": [
    "A.sum(axis=1)"
   ]
  },
  {
   "cell_type": "markdown",
   "metadata": {},
   "source": [
    "Verify this by hand as well.\n",
    "In the code-block below extract the 2nd row of the matrix and sum it up:"
   ]
  },
  {
   "cell_type": "code",
   "execution_count": null,
   "metadata": {},
   "outputs": [],
   "source": [
    "# your code here"
   ]
  },
  {
   "cell_type": "markdown",
   "metadata": {},
   "source": []
  }
 ],
 "metadata": {
  "kernelspec": {
   "display_name": "Python 3.10.4 ('CI-MIMM')",
   "language": "python",
   "name": "python3"
  },
  "language_info": {
   "codemirror_mode": {
    "name": "ipython",
    "version": 3
   },
   "file_extension": ".py",
   "mimetype": "text/x-python",
   "name": "python",
   "nbconvert_exporter": "python",
   "pygments_lexer": "ipython3",
   "version": "3.10.4"
  },
  "vscode": {
   "interpreter": {
    "hash": "1c3d4ab1de39befe81a4315818ce81672a6f5365da800f5c590d1f476445f9ab"
   }
  }
 },
 "nbformat": 4,
 "nbformat_minor": 4
}
