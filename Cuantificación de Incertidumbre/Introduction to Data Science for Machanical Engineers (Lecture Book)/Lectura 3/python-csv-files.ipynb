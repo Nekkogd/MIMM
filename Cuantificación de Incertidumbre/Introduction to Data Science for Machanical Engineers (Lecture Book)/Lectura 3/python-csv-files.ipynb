{
 "cells": [
  {
   "cell_type": "markdown",
   "id": "4091fc0e",
   "metadata": {},
   "source": [
    "(lecture03:csv-files)=\n",
    "# Comma-separated values file format\n",
    "\n",
    "How do we store data on a computer?\n",
    "Obviously, there is a plethora of data storing formats.\n",
    "For example, Microsoft Excel has a format for storing data.\n",
    "There are also several high-performance binary data formats which are common, e.g., HDF5.\n",
    "However, by far the most ubiquitous data format is the \"comma-separated values\" file format -- or simply the csv file format.\n",
    "The csv file format can be used to store a matrix.\n",
    "Here is how:\n",
    "\n",
    "- Each row of the file contains numbers separated by commas. There must be as many entries in a row as matrix columns.\n",
    "- If you start a row with \"#\" it will be ignored when reading the file.\n",
    "\n",
    "Let's look at an example of such a file from a catalysis experiment {cite}`KATSOUNAROS2012270`.\n",
    "Each row corresponds to a different time instant.\n",
    "Columns 1 to 5 give the mass in grams of a chemical species at that instant of the chemical reaction.\n",
    "\n",
    "```\n",
    "# contents of catalysis.csv\n",
    "# Time,NO3,NO2,N2,NH3,N2O\n",
    "0,500.00,0.00,0.00,0.00,0.00\n",
    "30,250.95,107.32,18.51,3.33,4.98\n",
    "60,123.66,132.33,74.85,7.34,20.14\n",
    "90,84.47,98.81,166.19,13.14,42.10\n",
    "120,30.24,38.74,249.78,19.54,55.98\n",
    "150,27.94,10.42,292.32,24.07,60.65\n",
    "180,13.54,6.11,309.50,27.26,62.54\n",
    "# end of file\n",
    "```\n",
    "\n",
    "You do not have this file on your working directory, so let me create if for you using a bit of Python magick:"
   ]
  },
  {
   "cell_type": "code",
   "execution_count": 22,
   "id": "8b4a6a01",
   "metadata": {},
   "outputs": [],
   "source": [
    "with open('catalysis.csv', 'w') as fd:\n",
    "    fd.write(\n",
    "\"\"\"\n",
    "# Time,NO3,NO2,N2,NH3,N2O\n",
    "0,500.00,0.00,0.00,0.00,0.00\n",
    "30,250.95,107.32,18.51,3.33,4.98\n",
    "60,123.66,132.33,74.85,7.34,20.14\n",
    "90,84.47,98.81,166.19,13.14,42.10\n",
    "120,30.24,38.74,249.78,19.54,55.98\n",
    "150,27.94,10.42,292.32,24.07,60.65\n",
    "180,13.54,6.11,309.50,27.26,62.54\n",
    "\"\"\"\n",
    "    )"
   ]
  },
  {
   "cell_type": "markdown",
   "id": "8c158ff3",
   "metadata": {},
   "source": [
    "Now you have it. If you are working on Google Colab (or your Mac or Linux machine) you can verify that the file exists:"
   ]
  },
  {
   "cell_type": "code",
   "execution_count": 23,
   "id": "6fdd5ca3",
   "metadata": {},
   "outputs": [
    {
     "name": "stdout",
     "output_type": "stream",
     "text": [
      "catalysis.csv         intro.md\r\n",
      "csv-files.ipynb       python-matrices.ipynb\r\n"
     ]
    }
   ],
   "source": [
    "!ls"
   ]
  },
  {
   "cell_type": "markdown",
   "id": "565645dc",
   "metadata": {},
   "source": [
    "It is just a text file. You can see its contents like this:"
   ]
  },
  {
   "cell_type": "code",
   "execution_count": 24,
   "id": "9e0561ac",
   "metadata": {},
   "outputs": [
    {
     "name": "stdout",
     "output_type": "stream",
     "text": [
      "\r\n",
      "# Time,NO3,NO2,N2,NH3,N2O\r\n",
      "0,500.00,0.00,0.00,0.00,0.00\r\n",
      "30,250.95,107.32,18.51,3.33,4.98\r\n",
      "60,123.66,132.33,74.85,7.34,20.14\r\n",
      "90,84.47,98.81,166.19,13.14,42.10\r\n",
      "120,30.24,38.74,249.78,19.54,55.98\r\n",
      "150,27.94,10.42,292.32,24.07,60.65\r\n",
      "180,13.54,6.11,309.50,27.26,62.54\r\n"
     ]
    }
   ],
   "source": [
    "!cat catalysis.csv"
   ]
  },
  {
   "cell_type": "markdown",
   "id": "ef52ce0d",
   "metadata": {},
   "source": [
    "Let's use numpy to load the file.\n",
    "Here is how:"
   ]
  },
  {
   "cell_type": "code",
   "execution_count": 25,
   "id": "445228a5",
   "metadata": {},
   "outputs": [
    {
     "data": {
      "text/plain": [
       "array([[  0.  , 500.  ,   0.  ,   0.  ,   0.  ,   0.  ],\n",
       "       [ 30.  , 250.95, 107.32,  18.51,   3.33,   4.98],\n",
       "       [ 60.  , 123.66, 132.33,  74.85,   7.34,  20.14],\n",
       "       [ 90.  ,  84.47,  98.81, 166.19,  13.14,  42.1 ],\n",
       "       [120.  ,  30.24,  38.74, 249.78,  19.54,  55.98],\n",
       "       [150.  ,  27.94,  10.42, 292.32,  24.07,  60.65],\n",
       "       [180.  ,  13.54,   6.11, 309.5 ,  27.26,  62.54]])"
      ]
     },
     "execution_count": 25,
     "metadata": {},
     "output_type": "execute_result"
    }
   ],
   "source": [
    "import numpy as np\n",
    "data = np.loadtxt('catalysis.csv', delimiter=',')\n",
    "data"
   ]
  },
  {
   "cell_type": "markdown",
   "id": "7815415b",
   "metadata": {},
   "source": [
    "That's it. You can now do whatever you want with the data.\n",
    "For example, let's see if mass is conserved in this reaction.\n",
    "First, take everything except the first column (the first column is time, all the rest are masses):"
   ]
  },
  {
   "cell_type": "code",
   "execution_count": 26,
   "id": "e41b9555",
   "metadata": {},
   "outputs": [
    {
     "data": {
      "text/plain": [
       "array([[500.  ,   0.  ,   0.  ,   0.  ,   0.  ],\n",
       "       [250.95, 107.32,  18.51,   3.33,   4.98],\n",
       "       [123.66, 132.33,  74.85,   7.34,  20.14],\n",
       "       [ 84.47,  98.81, 166.19,  13.14,  42.1 ],\n",
       "       [ 30.24,  38.74, 249.78,  19.54,  55.98],\n",
       "       [ 27.94,  10.42, 292.32,  24.07,  60.65],\n",
       "       [ 13.54,   6.11, 309.5 ,  27.26,  62.54]])"
      ]
     },
     "execution_count": 26,
     "metadata": {},
     "output_type": "execute_result"
    }
   ],
   "source": [
    "data[:, 1:]"
   ]
  },
  {
   "cell_type": "markdown",
   "id": "d95fd7ac",
   "metadata": {},
   "source": [
    "Now, let's sum all columns for each row:"
   ]
  },
  {
   "cell_type": "code",
   "execution_count": 28,
   "id": "86dc14db",
   "metadata": {},
   "outputs": [
    {
     "data": {
      "text/plain": [
       "array([500.  , 385.09, 358.32, 404.71, 394.28, 415.4 , 418.95])"
      ]
     },
     "execution_count": 28,
     "metadata": {},
     "output_type": "execute_result"
    }
   ],
   "source": [
    "data[:, 1:].sum(axis=1)"
   ]
  },
  {
   "cell_type": "markdown",
   "id": "b87fbd61",
   "metadata": {},
   "source": [
    "We see that the mass is 500 grams initially, and then it decreases.\n",
    "This means that there is one (or more) intermediate chemical species that are have not been measured! You cannot violate the conservation of mass (at these engergies)."
   ]
  },
  {
   "cell_type": "markdown",
   "id": "738cb205",
   "metadata": {},
   "source": [
    "## Saving data in csv files\n",
    "\n",
    "Let me show you how simple it is to save data in csv files.\n",
    "First, let us create some synthetic data at random:"
   ]
  },
  {
   "cell_type": "code",
   "execution_count": 33,
   "id": "b0d3a25a",
   "metadata": {},
   "outputs": [
    {
     "data": {
      "text/plain": [
       "array([[-2.04707659e-01,  4.78943338e-01, -5.19438715e-01],\n",
       "       [-5.55730304e-01,  1.96578057e+00,  1.39340583e+00],\n",
       "       [ 9.29078767e-02,  2.81746153e-01,  7.69022568e-01],\n",
       "       [ 1.24643474e+00,  1.00718936e+00, -1.29622111e+00],\n",
       "       [ 2.74991633e-01,  2.28912879e-01,  1.35291684e+00],\n",
       "       [ 8.86429341e-01, -2.00163731e+00, -3.71842537e-01],\n",
       "       [ 1.66902531e+00, -4.38569736e-01, -5.39741446e-01],\n",
       "       [ 4.76985010e-01,  3.24894392e+00, -1.02122752e+00],\n",
       "       [-5.77087303e-01,  1.24121276e-01,  3.02613562e-01],\n",
       "       [ 5.23772068e-01,  9.40277775e-04,  1.34380979e+00]])"
      ]
     },
     "execution_count": 33,
     "metadata": {},
     "output_type": "execute_result"
    }
   ],
   "source": [
    "np.random.seed(12345) # to get the same numbers\n",
    "X = np.random.randn(10, 3)\n",
    "X"
   ]
  },
  {
   "cell_type": "markdown",
   "id": "65a2996b",
   "metadata": {},
   "source": [
    "We have 10 rows and 3 columns (whatever they mean).\n",
    "To save them in a csv file, we do:"
   ]
  },
  {
   "cell_type": "code",
   "execution_count": 35,
   "id": "3c7b2143",
   "metadata": {},
   "outputs": [],
   "source": [
    "np.savetxt('random_data.csv', X, delimiter=',')"
   ]
  },
  {
   "cell_type": "markdown",
   "id": "be69318b",
   "metadata": {},
   "source": [
    "Here is the file:"
   ]
  },
  {
   "cell_type": "code",
   "execution_count": 36,
   "id": "e17cdea0",
   "metadata": {},
   "outputs": [
    {
     "name": "stdout",
     "output_type": "stream",
     "text": [
      "random_data.csv\r\n"
     ]
    }
   ],
   "source": [
    "!ls random_data.csv"
   ]
  },
  {
   "cell_type": "markdown",
   "id": "d1b9b2d0",
   "metadata": {},
   "source": [
    "and here are the contents:"
   ]
  },
  {
   "cell_type": "code",
   "execution_count": 37,
   "id": "74546817",
   "metadata": {},
   "outputs": [
    {
     "name": "stdout",
     "output_type": "stream",
     "text": [
      "-2.047076594847129505e-01,4.789433380575482402e-01,-5.194387150567381095e-01\r\n",
      "-5.557303043474900450e-01,1.965780572502714207e+00,1.393405832972990366e+00\r\n",
      "9.290787674371767113e-02,2.817461528302024898e-01,7.690225676118387366e-01\r\n",
      "1.246434736386282216e+00,1.007189357583004874e+00,-1.296221109112263514e+00\r\n",
      "2.749916334321240163e-01,2.289128789353159221e-01,1.352916835165449694e+00\r\n",
      "8.864293405915888435e-01,-2.001637309660397435e+00,-3.718425371402543922e-01\r\n",
      "1.669025309524870604e+00,-4.385697358355719055e-01,-5.397414455216628104e-01\r\n",
      "4.769850104122995149e-01,3.248943919430754779e+00,-1.021227524355596827e+00\r\n",
      "-5.770873030407671633e-01,1.241212756734077355e-01,3.026135619125113752e-01\r\n",
      "5.237720681504165476e-01,9.402777753328851306e-04,1.343809793614132220e+00\r\n"
     ]
    }
   ],
   "source": [
    "!cat random_data.csv"
   ]
  },
  {
   "cell_type": "markdown",
   "id": "aedced1a",
   "metadata": {},
   "source": []
  }
 ],
 "metadata": {
  "kernelspec": {
   "display_name": "Python 3.8.10 64-bit",
   "language": "python",
   "name": "python3"
  },
  "language_info": {
   "codemirror_mode": {
    "name": "ipython",
    "version": 3
   },
   "file_extension": ".py",
   "mimetype": "text/x-python",
   "name": "python",
   "nbconvert_exporter": "python",
   "pygments_lexer": "ipython3",
   "version": "3.8.10 (default, Nov 14 2022, 12:59:47) \n[GCC 9.4.0]"
  },
  "vscode": {
   "interpreter": {
    "hash": "916dbcbb3f70747c44a77c7bcd40155683ae19c65e1c03b4aa3499c5328201f1"
   }
  }
 },
 "nbformat": 4,
 "nbformat_minor": 5
}
