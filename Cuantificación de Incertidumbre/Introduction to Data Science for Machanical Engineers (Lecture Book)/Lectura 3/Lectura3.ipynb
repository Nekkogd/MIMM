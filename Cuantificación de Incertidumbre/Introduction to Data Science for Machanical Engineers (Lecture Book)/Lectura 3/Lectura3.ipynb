{
 "cells": [
  {
   "cell_type": "markdown",
   "metadata": {},
   "source": [
    "# Lecture 3: Data loading and selection\n",
    "\n",
    "## Learning objectives\n",
    "\n",
    "+ Introduce matrices.\n",
    "+ Describe comma-separated-values (csv) file.\n",
    "+ Demonstrate how you can load a csv file.\n",
    "+ Introduce the Python data analysis library (pandas) and the concept of a data frames (table).\n",
    "+ Demonstrate how pandas can load various data files (csv, excel, etc.)\n",
    "+ Demonstrate how to select columns.\n",
    "+ Demonstrate how to summarize the data.\n",
    "+ Demonstrate how to clean the data from any missing values."
   ]
  },
  {
   "cell_type": "markdown",
   "metadata": {},
   "source": []
  }
 ],
 "metadata": {
  "language_info": {
   "name": "python"
  },
  "orig_nbformat": 4
 },
 "nbformat": 4,
 "nbformat_minor": 2
}
