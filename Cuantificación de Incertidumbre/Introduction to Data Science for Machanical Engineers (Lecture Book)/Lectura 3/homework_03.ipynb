{
 "cells": [
  {
   "cell_type": "markdown",
   "metadata": {},
   "source": [
    "(lecture03:homework)=\n",
    "# Homework 3\n",
    "\n",
    "+ Type your name and email in the \"Student details\" section below.\n",
    "+ Develop the code and generate the figures you need to solve the problems using this notebook.\n",
    "+ For the answers that require a mathematical proof or derivation you can either:\n",
    "    \n",
    "    - Type the answer using the built-in latex capabilities. In this case, simply export the notebook as a pdf and upload it on gradescope; or\n",
    "    - You can print the notebook (after you are done with all the code), write your answers by hand, scan, turn your response to a single pdf, and upload on gradescope.\n",
    "\n",
    "+ The total homework points are 100. Please note that the problems are not weighed equally.\n",
    "\n",
    "```{note}\n",
    "+ This is due before the beginning of the next lecture.\n",
    "+ Please match all the pages corresponding to each of the questions when you submit on gradescope.\n",
    "```"
   ]
  },
  {
   "cell_type": "markdown",
   "metadata": {},
   "source": [
    "## Student details\n",
    "\n",
    "+ **First Name:** Francisca \n",
    "+ **Last Name:** Cárdenas\n",
    "+ **Email:**"
   ]
  },
  {
   "cell_type": "markdown",
   "metadata": {},
   "source": [
    "(lecture03:homework:problem1)=\n",
    "## Problem 1 - High-performance buildings\n",
    "\n",
    "In this problem we are going to use the `pandas` library to analyze a real dataset collected as part of the NSF-funded project [Sociotechnical Systems to Enable Energy-Aware Residential Communities](https://www.energyawarecommunities.org/).\n",
    "You can find the raw dataset here:\n",
    "\n",
    "https://github.com/PurdueMechanicalEngineering/me-297-intro-to-data-science/raw/master/data/temperature_raw.xlsx\n",
    "\n",
    "Feel free to download it and open it up in Excel.\n",
    "\n",
    "### Uploading data files to Google Colab\n",
    "\n",
    "The first thing we are going to do in this problem is make this file accessible from this notebook. We could simply use the ``download()`` function that I introduced in the lecture. I will put the code at the very last block for your convenience.\n",
    "However, I still want to show you how you can upload your own data. Here we go.\n",
    "\n",
    "Go to your Google Drive. We need to select a folder to put the files. To keep things simple, let's just dump everything in \"My Drive/Colab Notebooks,\" i.e., the same folder that contains the copy of this Jupyter notebook which you should have already made  Once you have entered this folder in your Google Drive (just double click on it), drag and drop the `temperature_raw.xlsx` file in there.\n",
    "\n",
    "Now we need to make the Google Drive visible from this computational session. We do this by mounting the drive. You need to run this code and follow the instructions:"
   ]
  },
  {
   "cell_type": "code",
   "execution_count": 1,
   "metadata": {},
   "outputs": [
    {
     "ename": "ModuleNotFoundError",
     "evalue": "No module named 'google.colab'",
     "output_type": "error",
     "traceback": [
      "\u001b[0;31m---------------------------------------------------------------------------\u001b[0m",
      "\u001b[0;31mModuleNotFoundError\u001b[0m                       Traceback (most recent call last)",
      "\u001b[1;32m/home/nekko/Documentos/GitHub/Magister-en-Ingenieria-Mecanica-y-Materiales/Cuantificación de Incertidumbre/Introduction to Data Science for Machanical Engineers (Lecture Book)/Lectura 3/homework_03.ipynb Celda 4\u001b[0m in \u001b[0;36m<cell line: 2>\u001b[0;34m()\u001b[0m\n\u001b[1;32m      <a href='vscode-notebook-cell:/home/nekko/Documentos/GitHub/Magister-en-Ingenieria-Mecanica-y-Materiales/Cuantificaci%C3%B3n%20de%20Incertidumbre/Introduction%20to%20Data%20Science%20for%20Machanical%20Engineers%20%28Lecture%20Book%29/Lectura%203/homework_03.ipynb#W3sZmlsZQ%3D%3D?line=0'>1</a>\u001b[0m \u001b[39m# The following code does not run unless you are running the notebook on Google Colab\u001b[39;00m\n\u001b[0;32m----> <a href='vscode-notebook-cell:/home/nekko/Documentos/GitHub/Magister-en-Ingenieria-Mecanica-y-Materiales/Cuantificaci%C3%B3n%20de%20Incertidumbre/Introduction%20to%20Data%20Science%20for%20Machanical%20Engineers%20%28Lecture%20Book%29/Lectura%203/homework_03.ipynb#W3sZmlsZQ%3D%3D?line=1'>2</a>\u001b[0m \u001b[39mfrom\u001b[39;00m \u001b[39mgoogle\u001b[39;00m\u001b[39m.\u001b[39;00m\u001b[39mcolab\u001b[39;00m \u001b[39mimport\u001b[39;00m drive\n\u001b[1;32m      <a href='vscode-notebook-cell:/home/nekko/Documentos/GitHub/Magister-en-Ingenieria-Mecanica-y-Materiales/Cuantificaci%C3%B3n%20de%20Incertidumbre/Introduction%20to%20Data%20Science%20for%20Machanical%20Engineers%20%28Lecture%20Book%29/Lectura%203/homework_03.ipynb#W3sZmlsZQ%3D%3D?line=2'>3</a>\u001b[0m drive\u001b[39m.\u001b[39mmount(\u001b[39m'\u001b[39m\u001b[39m/content/drive\u001b[39m\u001b[39m'\u001b[39m)\n",
      "\u001b[0;31mModuleNotFoundError\u001b[0m: No module named 'google.colab'"
     ]
    }
   ],
   "source": [
    "# The following code does not run unless you are running the notebook on Google Colab\n",
    "from google.colab import drive\n",
    "drive.mount('/content/drive')"
   ]
  },
  {
   "cell_type": "markdown",
   "metadata": {},
   "source": [
    "Finally, change directories so that the data files are in the current working directory:"
   ]
  },
  {
   "cell_type": "code",
   "execution_count": null,
   "metadata": {},
   "outputs": [],
   "source": [
    "# Only if you are running on Google Colab...\n",
    "# Print working directory before changing\n",
    "!pwd\n",
    "# Change to the desired directory on Google drive\n",
    "%cd \"/content/drive/My Drive/Colab Notebooks\"\n",
    "# Print working directory after changing\n",
    "!pwd\n",
    "# List the contents of the directory - Make sure it does contain the files we want:\n",
    "!ls"
   ]
  },
  {
   "cell_type": "markdown",
   "metadata": {},
   "source": [
    "Now you should have access to the file and you can **skip the next code block.**\n",
    "If you tried and something went wrong, simply run the code block below and it will put the data file in the right location for you."
   ]
  },
  {
   "cell_type": "code",
   "execution_count": 2,
   "metadata": {},
   "outputs": [],
   "source": [
    "# Only run this if the steps above failed for some reason.\n",
    "import requests\n",
    "import os\n",
    "def download(url, local_filename=None):\n",
    "    \"\"\"\n",
    "    Downloads the file in the ``url`` and saves it in the current working directory.\n",
    "    \"\"\"\n",
    "    data = requests.get(url)\n",
    "    if local_filename is None:\n",
    "        local_filename = os.path.basename(url)\n",
    "    with open(local_filename, 'wb') as fd:\n",
    "        fd.write(data.content)\n",
    "   \n",
    "# The url of the file we want to download\n",
    "url = 'https://github.com/PurdueMechanicalEngineering/me-297-intro-to-data-science/raw/master/data/temperature_raw.xlsx'\n",
    "download(url)"
   ]
  },
  {
   "cell_type": "markdown",
   "metadata": {},
   "source": [
    "### Loading Excel files\n",
    "\n",
    "Use the ``pd.read_excel`` function to read the `temperature_raw.xlsx` file.\n",
    "Name the data frame you read `df`.\n"
   ]
  },
  {
   "cell_type": "code",
   "execution_count": 4,
   "metadata": {},
   "outputs": [
    {
     "ename": "ModuleNotFoundError",
     "evalue": "No module named 'pandas'",
     "output_type": "error",
     "traceback": [
      "\u001b[0;31m---------------------------------------------------------------------------\u001b[0m",
      "\u001b[0;31mModuleNotFoundError\u001b[0m                       Traceback (most recent call last)",
      "\u001b[1;32m/home/nekko/Documentos/GitHub/Magister-en-Ingenieria-Mecanica-y-Materiales/Cuantificación de Incertidumbre/Introduction to Data Science for Machanical Engineers (Lecture Book)/Lectura 3/homework_03.ipynb Celda 10\u001b[0m in \u001b[0;36m<cell line: 1>\u001b[0;34m()\u001b[0m\n\u001b[0;32m----> <a href='vscode-notebook-cell:/home/nekko/Documentos/GitHub/Magister-en-Ingenieria-Mecanica-y-Materiales/Cuantificaci%C3%B3n%20de%20Incertidumbre/Introduction%20to%20Data%20Science%20for%20Machanical%20Engineers%20%28Lecture%20Book%29/Lectura%203/homework_03.ipynb#X12sZmlsZQ%3D%3D?line=0'>1</a>\u001b[0m \u001b[39mimport\u001b[39;00m \u001b[39mpandas\u001b[39;00m \u001b[39mas\u001b[39;00m \u001b[39mpd\u001b[39;00m\n\u001b[1;32m      <a href='vscode-notebook-cell:/home/nekko/Documentos/GitHub/Magister-en-Ingenieria-Mecanica-y-Materiales/Cuantificaci%C3%B3n%20de%20Incertidumbre/Introduction%20to%20Data%20Science%20for%20Machanical%20Engineers%20%28Lecture%20Book%29/Lectura%203/homework_03.ipynb#X12sZmlsZQ%3D%3D?line=1'>2</a>\u001b[0m df \u001b[39m=\u001b[39m pd\u001b[39m.\u001b[39mread_excel(\u001b[39m'\u001b[39m\u001b[39mtemperature_raw.xlsx\u001b[39m\u001b[39m'\u001b[39m)\n",
      "\u001b[0;31mModuleNotFoundError\u001b[0m: No module named 'pandas'"
     ]
    }
   ],
   "source": [
    "import pandas as pd\n",
    "df = pd.read_excel('temperature_raw.xlsx')"
   ]
  },
  {
   "cell_type": "markdown",
   "metadata": {},
   "source": [
    "### Questions\n",
    "\n",
    "Now that you have access to the data frame, let's explore it.\n",
    "Answer the following questions.\n",
    "\n",
    "+ Print the first 10 rows of the data frame `df`:"
   ]
  },
  {
   "cell_type": "code",
   "execution_count": null,
   "metadata": {},
   "outputs": [],
   "source": [
    "# Your code here"
   ]
  },
  {
   "cell_type": "markdown",
   "metadata": {},
   "source": [
    "+ Print the last 10 rows of the data frame `df`:"
   ]
  },
  {
   "cell_type": "code",
   "execution_count": null,
   "metadata": {},
   "outputs": [],
   "source": [
    "# Your code here"
   ]
  },
  {
   "cell_type": "markdown",
   "metadata": {},
   "source": [
    "+ Print summary statistics of the data set."
   ]
  },
  {
   "cell_type": "code",
   "execution_count": null,
   "metadata": {},
   "outputs": [],
   "source": [
    "# Your code here"
   ]
  },
  {
   "cell_type": "markdown",
   "metadata": {},
   "source": [
    "+ Notice that there is a column called \"date\", but pandas is not aware that this is actually a date.\n",
    "Let's make it aware of that."
   ]
  },
  {
   "cell_type": "code",
   "execution_count": null,
   "metadata": {},
   "outputs": [],
   "source": [
    "df.date = pd.to_datetime(df['date'], format='%Y-%m-%d')"
   ]
  },
  {
   "cell_type": "markdown",
   "metadata": {},
   "source": [
    "+ Count how many NaN values you have on each column.\n",
    "*Hint: [Google it!](https://letmegooglethat.com/?q=pandas+count+NaN+values+per+column)"
   ]
  },
  {
   "cell_type": "code",
   "execution_count": null,
   "metadata": {},
   "outputs": [],
   "source": [
    "# your code here"
   ]
  },
  {
   "cell_type": "markdown",
   "metadata": {},
   "source": [
    "+ Clean the data set by dropping all NaN values. Call the cleaned data `df_clean`."
   ]
  },
  {
   "cell_type": "code",
   "execution_count": null,
   "metadata": {},
   "outputs": [],
   "source": [
    "df_clean = # your code here"
   ]
  },
  {
   "cell_type": "markdown",
   "metadata": {},
   "source": [
    "+ Verify that there are no NaN values in `df_clean`."
   ]
  },
  {
   "cell_type": "code",
   "execution_count": null,
   "metadata": {},
   "outputs": [],
   "source": [
    "# your code here"
   ]
  },
  {
   "cell_type": "markdown",
   "metadata": {},
   "source": [
    "+ How many unique households do we have and what are their unique names? \n",
    "+ Hint: [Google it!](https://letmegooglethat.com/?q=pandas+find+unique+values)"
   ]
  },
  {
   "cell_type": "code",
   "execution_count": null,
   "metadata": {},
   "outputs": [],
   "source": [
    "# your code here"
   ]
  },
  {
   "cell_type": "markdown",
   "metadata": {},
   "source": [
    "+ Print summary statistics for your cleaned dataset."
   ]
  },
  {
   "cell_type": "code",
   "execution_count": null,
   "metadata": {},
   "outputs": [],
   "source": [
    "# your code here"
   ]
  },
  {
   "cell_type": "markdown",
   "metadata": {},
   "source": [
    "+ Save your cleaned dataset in a csv file using ``df_clean.to_csv``. Use the name ``temperature_clean.csv``."
   ]
  },
  {
   "cell_type": "code",
   "execution_count": null,
   "metadata": {},
   "outputs": [],
   "source": [
    "# your code here"
   ]
  },
  {
   "cell_type": "markdown",
   "metadata": {},
   "source": [
    "+ Verify that the file exists by running the following lines of code (does not work on Windows):"
   ]
  },
  {
   "cell_type": "code",
   "execution_count": null,
   "metadata": {},
   "outputs": [],
   "source": [
    "!ls -lth temperature_clean.csv"
   ]
  },
  {
   "cell_type": "code",
   "execution_count": null,
   "metadata": {},
   "outputs": [],
   "source": [
    "!head temperature_clean.csv"
   ]
  },
  {
   "cell_type": "markdown",
   "metadata": {},
   "source": [
    "+ Save the cleanded data set in an Microsoft Excel format. Look at [pandas.DataFrame](https://pandas.pydata.org/docs/reference/api/pandas.DataFrame.html) for the right function. Call the file ``temperature_clean.xlsx``."
   ]
  },
  {
   "cell_type": "code",
   "execution_count": null,
   "metadata": {},
   "outputs": [],
   "source": [
    "# your code here"
   ]
  },
  {
   "cell_type": "markdown",
   "metadata": {},
   "source": [
    "+ Download the the newly created ``temperature_clean.xlsx`` file to your computer and open it up. There is no need to show something here. Just do it for your own education. If you are running the Jupyter notebook on your own computer, then there is nothing to do apart from finding the file. If you are working on Google Colab, see [this](https://stackoverflow.com/questions/48774285/how-to-download-file-created-in-colaboratory-workspace)."
   ]
  },
  {
   "cell_type": "code",
   "execution_count": null,
   "metadata": {},
   "outputs": [],
   "source": [
    "# your code here (if needed)"
   ]
  },
  {
   "cell_type": "markdown",
   "metadata": {},
   "source": [
    "(lecture03:homework:problem2)=\n",
    "## Problem 2 - Chemical reactions\n",
    "\n",
    "In this problem, we are going to make a new DataFrame from a matrix of data.\n",
    "We will use the catalysis dataset we introduced in the lecture.\n",
    "As a reminder, this dataset is from a chemical reaction studied in {cite}`KATSOUNAROS2012270`.\n",
    "The chemical reaction converts NO3 to N2. We have seven measurements at thirty second intervals. The masses are in grams. We saw in the lecture that the mass of the measured chemical species is not conserved, which suggests that there is at least one more thing we do not measure. The goal of this problem is to create a dataframe with the data and then add a column to it with our guess (prediction) for the mass of the unobserved chemical species."
   ]
  },
  {
   "cell_type": "markdown",
   "metadata": {},
   "source": [
    "+ First, let's make a list with the column names. The names are \"Time, NO3, NO2, N2, NH3, N2O.\" Make the list and call it ``column_names``. Let me make part of the list and you complete the rest."
   ]
  },
  {
   "cell_type": "code",
   "execution_count": null,
   "metadata": {},
   "outputs": [],
   "source": [
    "column_names = ['Time', 'NO3'] # Complete the rest of the list - Pay attention to\n",
    "                               # the fact that the column names are strings.\n",
    "column_names"
   ]
  },
  {
   "cell_type": "markdown",
   "metadata": {},
   "source": [
    "+ Now, let's put the measured data in a numpy array. Remember that these are grams. The data are:"
   ]
  },
  {
   "cell_type": "code",
   "execution_count": null,
   "metadata": {},
   "outputs": [],
   "source": [
    "# There is no point running this code block - I just wanted to put the raw data here\n",
    "0,500.00,0.00,0.00,0.00,0.00\n",
    "30,250.95,107.32,18.51,3.33,4.98\n",
    "60,123.66,132.33,74.85,7.34,20.14\n",
    "90,84.47,98.81,166.19,13.14,42.10\n",
    "120,30.24,38.74,249.78,19.54,55.98\n",
    "150,27.94,10.42,292.32,24.07,60.65\n",
    "180,13.54,6.11,309.50,27.26,62.54"
   ]
  },
  {
   "cell_type": "markdown",
   "metadata": {},
   "source": [
    "Let me make part of the matrix for you, and you should complete the rest:"
   ]
  },
  {
   "cell_type": "code",
   "execution_count": null,
   "metadata": {},
   "outputs": [],
   "source": [
    "raw_data = np.array(\n",
    "    [\n",
    "        [0,500.00,0.00,0.00,0.00,0.00],\n",
    "        [30,250.95,107.32,18.51,3.33,4.98],\n",
    "        [60,123.66,132.33,74.85,7.34,20.14]\n",
    "        # your code here - be careful with the commas\n",
    "    ]\n",
    ")\n",
    "raw_data"
   ]
  },
  {
   "cell_type": "markdown",
   "metadata": {},
   "source": [
    "Remember that your matrix must have six columns and seven rows."
   ]
  },
  {
   "cell_type": "markdown",
   "metadata": {},
   "source": [
    "+ Let's put the data so far in a dataframe. "
   ]
  },
  {
   "cell_type": "code",
   "execution_count": null,
   "metadata": {},
   "outputs": [],
   "source": [
    "import pandas as pd\n",
    "df = pd.DataFrame(data= # your code here - the raw data in matrix format\n",
    "                  , \n",
    "                  columns= # your code here - the column names\n",
    "                 )\n",
    "df"
   ]
  },
  {
   "cell_type": "markdown",
   "metadata": {},
   "source": [
    "+ In the lecture notes, we saw that the sum of the masses at each timestep was not conserved. Let's calculate how much mass is missing at each timestep. I will guide you through the steps. First, write some code to extract only the masses from the raw data.\n",
    "Get all columns of ``raw_data`` except the first one:"
   ]
  },
  {
   "cell_type": "code",
   "execution_count": null,
   "metadata": {},
   "outputs": [],
   "source": [
    "mass_data = # your code here\n",
    "mass_data"
   ]
  },
  {
   "cell_type": "markdown",
   "metadata": {},
   "source": [
    "+ Now, write code that sums all the columns for each row:"
   ]
  },
  {
   "cell_type": "code",
   "execution_count": null,
   "metadata": {},
   "outputs": [],
   "source": [
    "total_measured_mass = # your code here\n",
    "total_measured_mass"
   ]
  },
  {
   "cell_type": "markdown",
   "metadata": {},
   "source": [
    "+ Now, find how much is the missing mass of the unobserved chemical species X by subtracting the total measured mass from the initial mass (which was 500 grams)."
   ]
  },
  {
   "cell_type": "code",
   "execution_count": null,
   "metadata": {},
   "outputs": [],
   "source": [
    "mass_of_X = # your code here\n",
    "mass_of_X"
   ]
  },
  {
   "cell_type": "markdown",
   "metadata": {},
   "source": [
    "Very nice! You just made your first model! Your model is:\n",
    "$$\n",
    "\\text{mass of X} = 500\\;\\text{grams} - \\text{mass of NO3} - \\dots -\\text{mass of N2O}.\n",
    "$$\n",
    "Notice that we did not use just data to build this model.\n",
    "We used a physical principle (conservation of mass) plus data!\n",
    "It is a special kind of model.\n",
    "We will learn more about models in later lectures!"
   ]
  },
  {
   "cell_type": "markdown",
   "metadata": {},
   "source": [
    "+ Let's now make a new dataframe that also contains X. We need to add a column to our original dataframe. This is super simple. You can do it like this:"
   ]
  },
  {
   "cell_type": "code",
   "execution_count": null,
   "metadata": {},
   "outputs": [],
   "source": [
    "df['X'] = # your code here\n",
    "df"
   ]
  },
  {
   "cell_type": "markdown",
   "metadata": {},
   "source": [
    "+ Now, save the dataframe to an Excel file."
   ]
  },
  {
   "cell_type": "code",
   "execution_count": null,
   "metadata": {},
   "outputs": [],
   "source": [
    "# your code here"
   ]
  },
  {
   "cell_type": "markdown",
   "metadata": {},
   "source": []
  }
 ],
 "metadata": {
  "kernelspec": {
   "display_name": "Python 3.8.10 64-bit",
   "language": "python",
   "name": "python3"
  },
  "language_info": {
   "codemirror_mode": {
    "name": "ipython",
    "version": 3
   },
   "file_extension": ".py",
   "mimetype": "text/x-python",
   "name": "python",
   "nbconvert_exporter": "python",
   "pygments_lexer": "ipython3",
   "version": "3.8.10 (default, Nov 14 2022, 12:59:47) \n[GCC 9.4.0]"
  },
  "vscode": {
   "interpreter": {
    "hash": "916dbcbb3f70747c44a77c7bcd40155683ae19c65e1c03b4aa3499c5328201f1"
   }
  }
 },
 "nbformat": 4,
 "nbformat_minor": 4
}
