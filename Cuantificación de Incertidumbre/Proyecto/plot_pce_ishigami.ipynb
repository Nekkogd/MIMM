{
  "cells": [
    {
      "cell_type": "code",
      "execution_count": 1,
      "metadata": {
        "collapsed": false
      },
      "outputs": [],
      "source": [
        "%matplotlib inline"
      ]
    },
    {
      "cell_type": "markdown",
      "metadata": {},
      "source": [
        "\n",
        "# Ishigami function (3 random inputs, scalar output)\n",
        "\n",
        "In this example, we approximate the well-known Ishigami function with a total-degree Polynomial Chaos Expansion.\n"
      ]
    },
    {
      "cell_type": "markdown",
      "metadata": {},
      "source": [
        "Import necessary libraries.\n",
        "\n"
      ]
    },
    {
      "cell_type": "code",
      "execution_count": 2,
      "metadata": {
        "collapsed": false
      },
      "outputs": [],
      "source": [
        "import numpy as np\n",
        "import math\n",
        "import numpy as np\n",
        "from UQpy.distributions import Uniform, JointIndependent\n",
        "from UQpy.surrogates import *"
      ]
    },
    {
      "cell_type": "markdown",
      "metadata": {},
      "source": [
        "We then define the Ishigami function, which reads:\n",
        "$f(x_1, x_2, x_3) = \\sin(x_1) + a \\sin^2(x_2) + b x_3^4 \\sin(x_1)$\n",
        "\n"
      ]
    },
    {
      "cell_type": "code",
      "execution_count": 3,
      "metadata": {
        "collapsed": false
      },
      "outputs": [],
      "source": [
        "# function to be approximated\n",
        "def ishigami(xx):\n",
        "    \"\"\"Ishigami function\"\"\"\n",
        "    a = 7\n",
        "    b = 0.1\n",
        "    term1 = np.sin(xx[0])\n",
        "    term2 = a * np.sin(xx[1])**2\n",
        "    term3 = b * xx[2]**4 * np.sin(xx[0])\n",
        "    return term1 + term2 + term3"
      ]
    },
    {
      "cell_type": "markdown",
      "metadata": {},
      "source": [
        "The Ishigami function has three random inputs, which are uniformly distributed in $[-\\pi, \\pi]$. Moreover, the\n",
        "input random variables are mutually independent, which simplifies the construction of the joint distribution. Let's\n",
        "define the corresponding distributions.\n",
        "\n"
      ]
    },
    {
      "cell_type": "code",
      "execution_count": 4,
      "metadata": {
        "collapsed": false
      },
      "outputs": [],
      "source": [
        "# input distributions\n",
        "dist1 = Uniform(loc=-np.pi, scale=2*np.pi)\n",
        "dist2 = Uniform(loc=-np.pi, scale=2*np.pi)\n",
        "dist3 = Uniform(loc=-np.pi, scale=2*np.pi)\n",
        "marg = [dist1, dist2, dist3]\n",
        "joint = JointIndependent(marginals=marg)"
      ]
    },
    {
      "cell_type": "markdown",
      "metadata": {},
      "source": [
        "We now define our PCE. Only thing we need is the joint distribution.\n",
        "\n",
        "We must now select a polynomial basis. Here we opt for a total-degree (TD) basis, such that the univariate\n",
        "polynomials have a maximum degree equal to $P$ and all multivariate polynomial have a total-degree\n",
        "(sum of degrees of corresponding univariate polynomials) at most equal to $P$. The size of the basis is then\n",
        "given by $\\frac{(N+P)!}{N! P!}$\n",
        "where $N$ is the number of random inputs (here, $N+3$).\n",
        "\n"
      ]
    },
    {
      "cell_type": "code",
      "execution_count": 5,
      "metadata": {
        "collapsed": false
      },
      "outputs": [
        {
          "name": "stdout",
          "output_type": "stream",
          "text": [
            "Size of PCE basis: 84\n"
          ]
        }
      ],
      "source": [
        "# maximum polynomial degree\n",
        "P = 6\n",
        "\n",
        "# construct total-degree polynomial basis\n",
        "polynomial_basis = TotalDegreeBasis(joint, P)\n",
        "\n",
        "# check the size of the basis\n",
        "print('Size of PCE basis:', polynomial_basis.polynomials_number)"
      ]
    },
    {
      "cell_type": "markdown",
      "metadata": {},
      "source": [
        "We must now compute the PCE coefficients. For that we first need a training sample of input random variable\n",
        "realizations and the corresponding model outputs. These two data sets form what is also known as an\n",
        "''experimental design''. It is generally advisable that the experimental design has $2-10$ times more data points\n",
        "than the number of PCE polynomials.\n",
        "\n"
      ]
    },
    {
      "cell_type": "code",
      "execution_count": 6,
      "metadata": {
        "collapsed": false
      },
      "outputs": [
        {
          "name": "stdout",
          "output_type": "stream",
          "text": [
            "Size of experimental design: 420\n"
          ]
        }
      ],
      "source": [
        "# create training data\n",
        "sample_size = int(polynomial_basis.polynomials_number*5)\n",
        "print('Size of experimental design:', sample_size)\n",
        "\n",
        "# realizations of random inputs\n",
        "xx_train = joint.rvs(sample_size)\n",
        "# corresponding model outputs\n",
        "yy_train = np.array([ishigami(x) for x in xx_train])"
      ]
    },
    {
      "cell_type": "markdown",
      "metadata": {},
      "source": [
        "We now fit the PCE coefficients by solving a regression problem. There are multiple ways to do this, e.g. least\n",
        "squares regression, ridge regression, LASSO regression, etc. Here we opt for the _np.linalg.lstsq_ method, which\n",
        "is based on the _dgelsd_ solver of LAPACK.\n",
        "\n"
      ]
    },
    {
      "cell_type": "code",
      "execution_count": 7,
      "metadata": {
        "collapsed": false
      },
      "outputs": [],
      "source": [
        "# fit model\n",
        "least_squares = LeastSquareRegression()\n",
        "pce = PolynomialChaosExpansion(polynomial_basis=polynomial_basis, regression_method=least_squares)\n",
        "\n",
        "pce.fit(xx_train, yy_train)"
      ]
    },
    {
      "cell_type": "markdown",
      "metadata": {},
      "source": [
        "By simply post-processing the PCE's terms, we are able to get estimates regarding the mean and standard deviation\n",
        "of the model output.\n",
        "\n"
      ]
    },
    {
      "cell_type": "code",
      "execution_count": 8,
      "metadata": {
        "collapsed": false
      },
      "outputs": [
        {
          "name": "stdout",
          "output_type": "stream",
          "text": [
            "PCE mean estimate: 3.4745053988164747\n",
            "PCE variance estimate: 14.153213969185497\n"
          ]
        }
      ],
      "source": [
        "mean_est = pce.get_moments()[0]\n",
        "var_est = pce.get_moments()[1]\n",
        "print('PCE mean estimate:', mean_est)\n",
        "print('PCE variance estimate:', var_est)"
      ]
    },
    {
      "cell_type": "markdown",
      "metadata": {},
      "source": [
        "Similarly to the mean and variance estimates, we can very simply estimate the Sobol sensitivity indices, which\n",
        "quantify the importance of the input random variables in terms of impact on the model output.\n",
        "\n"
      ]
    },
    {
      "cell_type": "code",
      "execution_count": 9,
      "metadata": {
        "collapsed": false
      },
      "outputs": [
        {
          "name": "stdout",
          "output_type": "stream",
          "text": [
            "First-order Sobol indices:\n",
            "[[0.31293645]\n",
            " [0.43816939]\n",
            " [0.00064564]]\n",
            "Total-order Sobol indices:\n",
            "[[0.56014104]\n",
            " [0.44127186]\n",
            " [0.24818253]]\n"
          ]
        }
      ],
      "source": [
        "from UQpy.sensitivity import *\n",
        "pce_sensitivity = PceSensitivity(pce)\n",
        "pce_sensitivity.run()\n",
        "sobol_first = pce_sensitivity.first_order_indices\n",
        "sobol_total = pce_sensitivity.total_order_indices\n",
        "print('First-order Sobol indices:')\n",
        "print(sobol_first)\n",
        "print('Total-order Sobol indices:')\n",
        "print(sobol_total)"
      ]
    },
    {
      "cell_type": "markdown",
      "metadata": {},
      "source": [
        "The PCE should become increasingly more accurate as the maximum polynomial degree $P$ increases. We will test\n",
        "that by computing the mean absolute error (MAE) between the PCE's predictions and the true model outputs, given a\n",
        "validation sample of $10^5$ data points.\n",
        "\n"
      ]
    },
    {
      "cell_type": "code",
      "execution_count": 10,
      "metadata": {
        "collapsed": false
      },
      "outputs": [
        {
          "name": "stdout",
          "output_type": "stream",
          "text": [
            "Polynomial degree: 0\n",
            "Mean absolute error: 3.5092014513593974\n",
            " \n",
            "Polynomial degree: 1\n",
            "Mean absolute error: 2.9190940130421437\n",
            " \n",
            "Polynomial degree: 2\n",
            "Mean absolute error: 2.881426057510191\n",
            " \n",
            "Polynomial degree: 3\n",
            "Mean absolute error: 2.490517639729513\n",
            " \n",
            "Polynomial degree: 4\n",
            "Mean absolute error: 1.6837629839128996\n",
            " \n",
            "Polynomial degree: 5\n",
            "Mean absolute error: 1.4288047926039877\n",
            " \n",
            "Polynomial degree: 6\n",
            "Mean absolute error: 0.47225689340879823\n",
            " \n",
            "Polynomial degree: 7\n",
            "Mean absolute error: 0.3275845356142154\n",
            " \n",
            "Polynomial degree: 8\n",
            "Mean absolute error: 0.06852103811265503\n",
            " \n",
            "Polynomial degree: 9\n",
            "Mean absolute error: 0.044242183981870506\n",
            " \n",
            "Polynomial degree: 10\n",
            "Mean absolute error: 0.0049732041095262\n",
            " \n",
            "Polynomial degree: 11\n",
            "Mean absolute error: 0.0038931663654602523\n",
            " \n",
            "Polynomial degree: 12\n",
            "Mean absolute error: 0.00025446069874188036\n",
            " \n",
            "Polynomial degree: 13\n",
            "Mean absolute error: 0.0002543042852671317\n",
            " \n",
            "Polynomial degree: 14\n",
            "Mean absolute error: 1.1189147899934252e-05\n",
            " \n",
            "Polynomial degree: 15\n",
            "Mean absolute error: 1.0716808550461187e-05\n",
            " \n"
          ]
        }
      ],
      "source": [
        "# validation data sets\n",
        "np.random.seed(999)  # fix random seed for reproducibility\n",
        "n_samples_val = 100000\n",
        "xx_val = joint.rvs(n_samples_val)\n",
        "yy_val = np.array([ishigami(x) for x in xx_val])\n",
        "\n",
        "mae = []  # to hold MAE for increasing polynomial degree\n",
        "for degree in range(16):\n",
        "    # define PCE\n",
        "    polynomial_basis = TotalDegreeBasis(joint, degree)\n",
        "    least_squares = LeastSquareRegression()\n",
        "    pce_metamodel = PolynomialChaosExpansion(polynomial_basis=polynomial_basis, regression_method=least_squares)\n",
        "\n",
        "    # create training data\n",
        "    np.random.seed(1)  # fix random seed for reproducibility\n",
        "    sample_size = int(pce_metamodel.polynomials_number * 5)\n",
        "    xx_train = joint.rvs(sample_size)\n",
        "    yy_train = np.array([ishigami(x) for x in xx_train])\n",
        "\n",
        "    # fit PCE coefficients\n",
        "    pce_metamodel.fit(xx_train, yy_train)\n",
        "\n",
        "    # compute mean absolute validation error\n",
        "    yy_val_pce = pce_metamodel.predict(xx_val).flatten()\n",
        "    errors = np.abs(yy_val.flatten() - yy_val_pce)\n",
        "    mae.append(np.linalg.norm(errors, 1) / n_samples_val)\n",
        "\n",
        "    print('Polynomial degree:', degree)\n",
        "    print('Mean absolute error:', mae[-1])\n",
        "    print(' ')"
      ]
    }
  ],
  "metadata": {
    "kernelspec": {
      "display_name": "base",
      "language": "python",
      "name": "python3"
    },
    "language_info": {
      "codemirror_mode": {
        "name": "ipython",
        "version": 3
      },
      "file_extension": ".py",
      "mimetype": "text/x-python",
      "name": "python",
      "nbconvert_exporter": "python",
      "pygments_lexer": "ipython3",
      "version": "3.9.12 (main, Apr  5 2022, 06:56:58) \n[GCC 7.5.0]"
    },
    "vscode": {
      "interpreter": {
        "hash": "8529b65d0319367443e7302daa7c037c5f73498f66a12cef96a9fd37acbd4504"
      }
    }
  },
  "nbformat": 4,
  "nbformat_minor": 0
}
