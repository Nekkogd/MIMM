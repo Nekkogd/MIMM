{
 "cells": [
  {
   "cell_type": "code",
   "execution_count": 1,
   "metadata": {},
   "outputs": [],
   "source": [
    "# Importando librerias \n",
    "import numpy as np\n",
    "import math\n",
    "import numpy as np\n",
    "from UQpy.distributions import Uniform, JointIndependent\n",
    "from UQpy.surrogates import *"
   ]
  },
  {
   "cell_type": "code",
   "execution_count": 2,
   "metadata": {},
   "outputs": [],
   "source": [
    "# function to be approximated\n",
    "def ishigami(xx):\n",
    "    \"\"\"Ishigami function\"\"\"\n",
    "    a = 7\n",
    "    b = 0.1\n",
    "    term1 = np.sin(xx[0])\n",
    "    term2 = a * np.sin(xx[1])**2\n",
    "    term3 = b * xx[2]**4 * np.sin(xx[0])\n",
    "    return term1 + term2 + term3"
   ]
  },
  {
   "cell_type": "code",
   "execution_count": 3,
   "metadata": {},
   "outputs": [],
   "source": [
    "# input distributions\n",
    "dist1 = Uniform(loc=-np.pi, scale=2*np.pi)\n",
    "dist2 = Uniform(loc=-np.pi, scale=2*np.pi)\n",
    "dist3 = Uniform(loc=-np.pi, scale=2*np.pi)\n",
    "marg = [dist1, dist2, dist3]\n",
    "joint = JointIndependent(marginals=marg)"
   ]
  },
  {
   "cell_type": "code",
   "execution_count": 4,
   "metadata": {},
   "outputs": [
    {
     "name": "stdout",
     "output_type": "stream",
     "text": [
      "Size of PCE basis: 84\n"
     ]
    }
   ],
   "source": [
    "# maximum polynomial degree\n",
    "P = 6\n",
    "\n",
    "# construct total-degree polynomial basis\n",
    "polynomial_basis = TotalDegreeBasis(joint, P)\n",
    "\n",
    "# check the size of the basis\n",
    "print('Size of PCE basis:', polynomial_basis.polynomials_number)"
   ]
  },
  {
   "cell_type": "code",
   "execution_count": 5,
   "metadata": {},
   "outputs": [
    {
     "name": "stdout",
     "output_type": "stream",
     "text": [
      "Size of experimental design: 420\n"
     ]
    }
   ],
   "source": [
    "# create training data\n",
    "sample_size = int(polynomial_basis.polynomials_number*5)\n",
    "print('Size of experimental design:', sample_size)\n",
    "\n",
    "# realizations of random inputs\n",
    "xx_train = joint.rvs(sample_size)\n",
    "# corresponding model outputs\n",
    "yy_train = np.array([ishigami(x) for x in xx_train])"
   ]
  },
  {
   "cell_type": "code",
   "execution_count": 6,
   "metadata": {},
   "outputs": [],
   "source": [
    "# fit model\n",
    "least_squares = LeastSquareRegression()\n",
    "pce = PolynomialChaosExpansion(polynomial_basis=polynomial_basis, regression_method=least_squares)\n",
    "\n",
    "pce.fit(xx_train, yy_train)"
   ]
  },
  {
   "cell_type": "code",
   "execution_count": 7,
   "metadata": {},
   "outputs": [
    {
     "name": "stdout",
     "output_type": "stream",
     "text": [
      "PCE mean estimate: 3.57866254603282\n",
      "PCE variance estimate: 13.1574929426465\n"
     ]
    }
   ],
   "source": [
    "mean_est = pce.get_moments()[0]\n",
    "var_est = pce.get_moments()[1]\n",
    "print('PCE mean estimate:', mean_est)\n",
    "print('PCE variance estimate:', var_est)"
   ]
  },
  {
   "cell_type": "code",
   "execution_count": null,
   "metadata": {},
   "outputs": [],
   "source": []
  }
 ],
 "metadata": {
  "kernelspec": {
   "display_name": "base",
   "language": "python",
   "name": "python3"
  },
  "language_info": {
   "codemirror_mode": {
    "name": "ipython",
    "version": 3
   },
   "file_extension": ".py",
   "mimetype": "text/x-python",
   "name": "python",
   "nbconvert_exporter": "python",
   "pygments_lexer": "ipython3",
   "version": "3.9.12"
  },
  "orig_nbformat": 4,
  "vscode": {
   "interpreter": {
    "hash": "8529b65d0319367443e7302daa7c037c5f73498f66a12cef96a9fd37acbd4504"
   }
  }
 },
 "nbformat": 4,
 "nbformat_minor": 2
}
