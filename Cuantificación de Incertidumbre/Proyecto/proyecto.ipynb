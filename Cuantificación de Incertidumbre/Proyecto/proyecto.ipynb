{
 "cells": [
  {
   "cell_type": "code",
   "execution_count": 1,
   "metadata": {},
   "outputs": [],
   "source": [
    "# Importando librerias \n",
    "import numpy as np\n",
    "import math\n",
    "from UQpy.distributions import Uniform, JointIndependent\n",
    "from UQpy.surrogates import *"
   ]
  },
  {
   "cell_type": "code",
   "execution_count": 2,
   "metadata": {},
   "outputs": [],
   "source": [
    "# function to be approximated\n",
    "def ishigami(xx):\n",
    "    \"\"\"Ishigami function\"\"\"\n",
    "    a = 7\n",
    "    b = 0.1\n",
    "    term1 = np.sin(xx[0])\n",
    "    term2 = a * np.sin(xx[1])**2\n",
    "    term3 = b * xx[2]**4 * np.sin(xx[0])\n",
    "    return term1 + term2 + term3"
   ]
  },
  {
   "cell_type": "code",
   "execution_count": 3,
   "metadata": {},
   "outputs": [],
   "source": [
    "# input distributions\n",
    "dist1 = Uniform(loc=-np.pi, scale=2*np.pi)\n",
    "dist2 = Uniform(loc=-np.pi, scale=2*np.pi)\n",
    "dist3 = Uniform(loc=-np.pi, scale=2*np.pi)\n",
    "marg = [dist1, dist2, dist3]\n",
    "joint = JointIndependent(marginals=marg)"
   ]
  },
  {
   "cell_type": "code",
   "execution_count": 4,
   "metadata": {},
   "outputs": [
    {
     "name": "stdout",
     "output_type": "stream",
     "text": [
      "Size of PCE basis: 84\n"
     ]
    }
   ],
   "source": [
    "# maximum polynomial degree\n",
    "P = 6\n",
    "\n",
    "# construct total-degree polynomial basis\n",
    "polynomial_basis = TotalDegreeBasis(joint, P)\n",
    "\n",
    "# check the size of the basis\n",
    "print('Size of PCE basis:', polynomial_basis.polynomials_number)"
   ]
  },
  {
   "cell_type": "code",
   "execution_count": 5,
   "metadata": {},
   "outputs": [
    {
     "name": "stdout",
     "output_type": "stream",
     "text": [
      "Size of experimental design: 420\n"
     ]
    }
   ],
   "source": [
    "# create training data\n",
    "sample_size = int(polynomial_basis.polynomials_number*5)\n",
    "print('Size of experimental design:', sample_size)\n",
    "\n",
    "# realizations of random inputs\n",
    "xx_train = joint.rvs(sample_size)\n",
    "# corresponding model outputs\n",
    "yy_train = np.array([ishigami(x) for x in xx_train])"
   ]
  },
  {
   "cell_type": "code",
   "execution_count": 6,
   "metadata": {},
   "outputs": [],
   "source": [
    "# fit model\n",
    "least_squares = LeastSquareRegression()\n",
    "pce = PolynomialChaosExpansion(polynomial_basis=polynomial_basis, regression_method=least_squares)\n",
    "\n",
    "pce.fit(xx_train, yy_train)"
   ]
  },
  {
   "cell_type": "code",
   "execution_count": 7,
   "metadata": {},
   "outputs": [
    {
     "name": "stdout",
     "output_type": "stream",
     "text": [
      "PCE mean estimate: 3.5553376033427093\n",
      "PCE variance estimate: 13.405847515043579\n"
     ]
    }
   ],
   "source": [
    "mean_est = pce.get_moments()[0]\n",
    "var_est = pce.get_moments()[1]\n",
    "print('PCE mean estimate:', mean_est)\n",
    "print('PCE variance estimate:', var_est)"
   ]
  },
  {
   "cell_type": "code",
   "execution_count": 8,
   "metadata": {},
   "outputs": [
    {
     "name": "stdout",
     "output_type": "stream",
     "text": [
      "First-order Sobol indices:\n",
      "[[0.33211182]\n",
      " [0.42688427]\n",
      " [0.00108929]]\n",
      "Total-order Sobol indices:\n",
      "[[0.56997275]\n",
      " [0.43462447]\n",
      " [0.23912697]]\n"
     ]
    }
   ],
   "source": [
    "from UQpy.sensitivity import *\n",
    "pce_sensitivity = PceSensitivity(pce)\n",
    "pce_sensitivity.run()\n",
    "sobol_first = pce_sensitivity.first_order_indices\n",
    "sobol_total = pce_sensitivity.total_order_indices\n",
    "print('First-order Sobol indices:')\n",
    "print(sobol_first)\n",
    "print('Total-order Sobol indices:')\n",
    "print(sobol_total)"
   ]
  },
  {
   "cell_type": "code",
   "execution_count": 9,
   "metadata": {},
   "outputs": [
    {
     "name": "stdout",
     "output_type": "stream",
     "text": [
      "Polynomial degree: 0\n",
      "Mean absolute error: 3.5092014513593974\n",
      " \n",
      "Polynomial degree: 1\n",
      "Mean absolute error: 2.9190940130421446\n",
      " \n",
      "Polynomial degree: 2\n",
      "Mean absolute error: 2.8814260575101915\n",
      " \n",
      "Polynomial degree: 3\n",
      "Mean absolute error: 2.490517639729513\n",
      " \n",
      "Polynomial degree: 4\n",
      "Mean absolute error: 1.6837629839128991\n",
      " \n",
      "Polynomial degree: 5\n",
      "Mean absolute error: 1.428804792603987\n",
      " \n",
      "Polynomial degree: 6\n",
      "Mean absolute error: 0.47225689340879823\n",
      " \n",
      "Polynomial degree: 7\n",
      "Mean absolute error: 0.3275845356142159\n",
      " \n",
      "Polynomial degree: 8\n",
      "Mean absolute error: 0.06852103811265452\n",
      " \n",
      "Polynomial degree: 9\n",
      "Mean absolute error: 0.04424218398187157\n",
      " \n",
      "Polynomial degree: 10\n",
      "Mean absolute error: 0.004973204109526458\n",
      " \n",
      "Polynomial degree: 11\n",
      "Mean absolute error: 0.003893166365460238\n",
      " \n",
      "Polynomial degree: 12\n",
      "Mean absolute error: 0.00025446069874230753\n",
      " \n",
      "Polynomial degree: 13\n",
      "Mean absolute error: 0.0002543042852667285\n",
      " \n",
      "Polynomial degree: 14\n",
      "Mean absolute error: 1.1189147899982201e-05\n",
      " \n",
      "Polynomial degree: 15\n",
      "Mean absolute error: 1.0716808550149528e-05\n",
      " \n"
     ]
    }
   ],
   "source": [
    "# validation data sets\n",
    "np.random.seed(999)  # fix random seed for reproducibility\n",
    "n_samples_val = 100000\n",
    "xx_val = joint.rvs(n_samples_val)\n",
    "yy_val = np.array([ishigami(x) for x in xx_val])\n",
    "\n",
    "mae = []  # to hold MAE for increasing polynomial degree\n",
    "for degree in range(16):\n",
    "    # define PCE\n",
    "    polynomial_basis = TotalDegreeBasis(joint, degree)\n",
    "    least_squares = LeastSquareRegression()\n",
    "    pce_metamodel = PolynomialChaosExpansion(polynomial_basis=polynomial_basis, regression_method=least_squares)\n",
    "\n",
    "    # create training data\n",
    "    np.random.seed(1)  # fix random seed for reproducibility\n",
    "    sample_size = int(pce_metamodel.polynomials_number * 5)\n",
    "    xx_train = joint.rvs(sample_size)\n",
    "    yy_train = np.array([ishigami(x) for x in xx_train])\n",
    "\n",
    "    # fit PCE coefficients\n",
    "    pce_metamodel.fit(xx_train, yy_train)\n",
    "\n",
    "    # compute mean absolute validation error\n",
    "    yy_val_pce = pce_metamodel.predict(xx_val).flatten()\n",
    "    errors = np.abs(yy_val.flatten() - yy_val_pce)\n",
    "    mae.append(np.linalg.norm(errors, 1) / n_samples_val)\n",
    "\n",
    "    print('Polynomial degree:', degree)\n",
    "    print('Mean absolute error:', mae[-1])\n",
    "    print(' ')"
   ]
  },
  {
   "cell_type": "code",
   "execution_count": null,
   "metadata": {},
   "outputs": [],
   "source": []
  }
 ],
 "metadata": {
  "kernelspec": {
   "display_name": "CI-MIMM",
   "language": "python",
   "name": "python3"
  },
  "language_info": {
   "codemirror_mode": {
    "name": "ipython",
    "version": 3
   },
   "file_extension": ".py",
   "mimetype": "text/x-python",
   "name": "python",
   "nbconvert_exporter": "python",
   "pygments_lexer": "ipython3",
   "version": "3.10.4"
  },
  "orig_nbformat": 4,
  "vscode": {
   "interpreter": {
    "hash": "1c3d4ab1de39befe81a4315818ce81672a6f5365da800f5c590d1f476445f9ab"
   }
  }
 },
 "nbformat": 4,
 "nbformat_minor": 2
}
