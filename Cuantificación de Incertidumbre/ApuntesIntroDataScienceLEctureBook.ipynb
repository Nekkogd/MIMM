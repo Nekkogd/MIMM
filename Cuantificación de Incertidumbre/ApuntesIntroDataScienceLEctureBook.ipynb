{
 "cells": [
  {
   "cell_type": "markdown",
   "metadata": {},
   "source": [
    "# Introduction to Data Science for Mechanical Engineers (Lecture Book)"
   ]
  },
  {
   "cell_type": "markdown",
   "metadata": {},
   "source": [
    "### What is data science?\n",
    "\n",
    "La ciencia de datos es un campo interdiciplinario que utiliza metodos, procesos, algoritmos y sistemas cientificos para extraer conocimientos e ideas de [---] datos\n",
    "\n",
    "En ingenieria mecanica los metodos cientificos corresponden a leyes fisicas\n",
    "\n",
    "Entonces, en nuestro contexto, la ciencia de datos se trata de combinar el conocimiento del dominio (dinámica, mecánica de materiales, mecánica de fluidos, etc.) con datos. "
   ]
  },
  {
   "cell_type": "markdown",
   "metadata": {},
   "source": [
    "Librerias:\n",
    "\n",
    "math\n",
    "\n",
    "numpy\n",
    "\n",
    "malplotlib.pyplot\n"
   ]
  },
  {
   "cell_type": "markdown",
   "metadata": {},
   "source": []
  }
 ],
 "metadata": {
  "kernelspec": {
   "display_name": "Python 3.8.10 64-bit",
   "language": "python",
   "name": "python3"
  },
  "language_info": {
   "name": "python",
   "version": "3.8.10"
  },
  "orig_nbformat": 4,
  "vscode": {
   "interpreter": {
    "hash": "916dbcbb3f70747c44a77c7bcd40155683ae19c65e1c03b4aa3499c5328201f1"
   }
  }
 },
 "nbformat": 4,
 "nbformat_minor": 2
}
