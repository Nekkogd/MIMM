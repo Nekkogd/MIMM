{
 "cells": [
  {
   "cell_type": "code",
   "execution_count": 4,
   "metadata": {},
   "outputs": [],
   "source": [
    "import numpy as np\n",
    "import matplotlib.pyplot as plt\n",
    "import scipy as sp\n",
    "from scipy import interpolate"
   ]
  },
  {
   "cell_type": "code",
   "execution_count": 7,
   "metadata": {},
   "outputs": [],
   "source": [
    "x = [1,2.3,3.1,4,5.2,5.9,6.7]\n",
    "y = [1.7,2.8,3.6,4.5,3.4,3.1,3.1]"
   ]
  },
  {
   "cell_type": "code",
   "execution_count": 5,
   "metadata": {},
   "outputs": [
    {
     "data": {
      "text/plain": [
       "[<matplotlib.lines.Line2D at 0x2424924e610>,\n",
       " <matplotlib.lines.Line2D at 0x2424924e7f0>,\n",
       " <matplotlib.lines.Line2D at 0x2424924e700>]"
      ]
     },
     "execution_count": 5,
     "metadata": {},
     "output_type": "execute_result"
    },
    {
     "data": {
      "image/png": "[encoded data removed]",
      "text/plain": [
       "<Figure size 432x288 with 1 Axes>"
      ]
     },
     "metadata": {
      "needs_background": "light"
     },
     "output_type": "display_data"
    }
   ],
   "source": [
    "xi = np.arange(1,6.7,0.1)\n",
    "n = interpolate.splrep(x,y)\n",
    "s = lambda xn: interpolate.splev(xn,n)\n",
    "si =  []\n",
    "for i in xi:\n",
    "    si.append(s(i))\n",
    "c6 = np.polyfit(x,y,6)\n",
    "yi = np.polyval(c6,xi)\n",
    "plt.plot(x,y,'ko',xi,yi,'*r',xi,si,'b')"
   ]
  },
  {
   "cell_type": "code",
   "execution_count": 6,
   "metadata": {},
   "outputs": [
    {
     "data": {
      "text/plain": [
       "array([-5.05050505e-04,  4.31818182e-02,  1.11641414e+00,  4.50000000e-01])"
      ]
     },
     "execution_count": 6,
     "metadata": {},
     "output_type": "execute_result"
    }
   ],
   "source": [
    "xd = np.linspace(1,10,10)\n",
    "yd = [1.3,3.5,4.2,5,7,8.8,10.1,12.5,13,15.6]\n",
    "mccoef = np.polyfit(xd,yd,3)\n",
    "mccoef"
   ]
  },
  {
   "cell_type": "code",
   "execution_count": null,
   "metadata": {},
   "outputs": [],
   "source": []
  }
 ],
 "metadata": {
  "interpreter": {
   "hash": "c40244537d48a44f0f78aa85e3d97623f79e3c29b841a6836e13fdebcc7dc535"
  },
  "kernelspec": {
   "display_name": "Python 3.9.7 ('base')",
   "language": "python",
   "name": "python3"
  },
  "language_info": {
   "codemirror_mode": {
    "name": "ipython",
    "version": 3
   },
   "file_extension": ".py",
   "mimetype": "text/x-python",
   "name": "python",
   "nbconvert_exporter": "python",
   "pygments_lexer": "ipython3",
   "version": "3.9.7"
  },
  "orig_nbformat": 4
 },
 "nbformat": 4,
 "nbformat_minor": 2
}
