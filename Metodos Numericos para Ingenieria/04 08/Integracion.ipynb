{
 "cells": [
  {
   "cell_type": "code",
   "execution_count": 4,
   "metadata": {},
   "outputs": [
    {
     "ename": "SyntaxError",
     "evalue": "invalid syntax (Temp/ipykernel_13068/1769290165.py, line 20)",
     "output_type": "error",
     "traceback": [
      "\u001b[1;36m  File \u001b[1;32m\"C:\\Users\\nekko\\AppData\\Local\\Temp/ipykernel_13068/1769290165.py\"\u001b[1;36m, line \u001b[1;32m20\u001b[0m\n\u001b[1;33m    for k=1:num_disc\u001b[0m\n\u001b[1;37m         ^\u001b[0m\n\u001b[1;31mSyntaxError\u001b[0m\u001b[1;31m:\u001b[0m invalid syntax\n"
     ]
    }
   ],
   "source": [
    "# programa integra \n",
    "#clear all \n",
    "#clc \n",
    "# Integración de f(x) entre a y b para distintos valores de discretización\n",
    "import numpy as np\n",
    "# Definición de la función \n",
    "f = np.inline('x^2-2*x+8')\n",
    "# f=inline('exp(x)');\n",
    "# Integral teórica \n",
    "f_int=np.inline('x^3/3-x^2+8*x')\n",
    "# f_int=inline('exp(x)'); \n",
    "# Limites de la integración\n",
    "a=0\n",
    "b=6\n",
    "#% Grafica de la función\n",
    "ezplot(f,[a,b])\n",
    "#% Número de intervalos inicial \n",
    "n=6;\n",
    "#% Número de discretizaciones a probar \n",
    "num_disc = 5\n",
    "for k in 1:num_disc\n",
    "    h = (b-a)/n\n",
    "    sum=0\n",
    "    for j in 1:n \n",
    "        i=j-1\n",
    "        sum=sum+f(a+i*h)\n",
    "    int=h*sum; \n",
    "    int_teo=f_int(b)-f_int(a)\n",
    "    error=(int-int_teo)/int_teo*100\n",
    "    fprintf('%8d %12.5f %8.5f %8.5f\\n',n, h, int, error) \n",
    "    n=n*10;"
   ]
  }
 ],
 "metadata": {
  "interpreter": {
   "hash": "555bf2ce9e8f4c044eaa525442ffdc0cf83e8bb9dec4fd444527dad25ba5d4ac"
  },
  "kernelspec": {
   "display_name": "Python 3.9.7 ('base')",
   "language": "python",
   "name": "python3"
  },
  "language_info": {
   "codemirror_mode": {
    "name": "ipython",
    "version": 3
   },
   "file_extension": ".py",
   "mimetype": "text/x-python",
   "name": "python",
   "nbconvert_exporter": "python",
   "pygments_lexer": "ipython3",
   "version": "3.9.7"
  },
  "orig_nbformat": 4
 },
 "nbformat": 4,
 "nbformat_minor": 2
}
