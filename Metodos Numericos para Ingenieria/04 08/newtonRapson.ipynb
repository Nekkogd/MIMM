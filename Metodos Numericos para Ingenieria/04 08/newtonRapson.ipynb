{
 "cells": [
  {
   "cell_type": "code",
   "execution_count": 3,
   "metadata": {},
   "outputs": [],
   "source": [
    "# Metodo de Newton-Raphson\n",
    "#Ejemplo 1 (Burden ejemplo 1 p.51/pdf.61)\n",
    "import numpy as np"
   ]
  },
  {
   "cell_type": "code",
   "execution_count": 14,
   "metadata": {},
   "outputs": [],
   "source": [
    "# Input\n",
    "fx = lambda x: 1/(-2*np.log10((0.00005/3.7)+(2.5/(10e8*np.sqrt(x)))))**2\n",
    "dfx = lambda x: 0.27251/(((np.log10(0.27027+(2.51/(0.00005*np.sqrt(x)))))**3)*((0.27027*0.00005*10e8*(x**(3/2)))+(2.51*x)))\n",
    "\n",
    "x0 = 64/10e8\n",
    "tol = 10e-10\n"
   ]
  },
  {
   "cell_type": "code",
   "execution_count": 18,
   "metadata": {},
   "outputs": [
    {
     "name": "stdout",
     "output_type": "stream",
     "text": [
      "-9.209219692423783e-06 9.273219692423783e-06 1257.144428718807 0.011657776472616087\n",
      "nan nan nan nan\n"
     ]
    },
    {
     "name": "stderr",
     "output_type": "stream",
     "text": [
      "C:\\Users\\nekko\\AppData\\Local\\Temp/ipykernel_3224/1967177634.py:2: RuntimeWarning: invalid value encountered in sqrt\n",
      "  fx = lambda x: 1/(-2*np.log10((0.00005/3.7)+(2.5/(10e8*np.sqrt(x)))))**2\n",
      "C:\\Users\\nekko\\AppData\\Local\\Temp/ipykernel_3224/1967177634.py:3: RuntimeWarning: invalid value encountered in sqrt\n",
      "  dfx = lambda x: 0.27251/(((np.log10(0.27027+(2.51/(0.00005*np.sqrt(x)))))**3)*((0.27027*0.00005*10e8*(x**(3/2)))+(2.51*x)))\n",
      "C:\\Users\\nekko\\AppData\\Local\\Temp/ipykernel_3224/1967177634.py:3: RuntimeWarning: invalid value encountered in double_scalars\n",
      "  dfx = lambda x: 0.27251/(((np.log10(0.27027+(2.51/(0.00005*np.sqrt(x)))))**3)*((0.27027*0.00005*10e8*(x**(3/2)))+(2.51*x)))\n"
     ]
    },
    {
     "data": {
      "text/plain": [
       "6.4e-08"
      ]
     },
     "execution_count": 18,
     "metadata": {},
     "output_type": "execute_result"
    }
   ],
   "source": [
    "# Procedimiento\n",
    "tabla = []\n",
    "tramo = abs(2*tol)\n",
    "xi = x0\n",
    "\n",
    "while (tramo >= tol):\n",
    "    xn = xi - fx(xi)/dfx(xi)\n",
    "    K = fx(xi)\n",
    "    h = dfx(xi)\n",
    "    tramo = abs(xn - xi)\n",
    "    tabla.append([xi, xn, tramo])\n",
    "    xi = xn\n",
    "    print(xi, tramo, h, K)\n",
    "\n",
    "x0"
   ]
  },
  {
   "cell_type": "code",
   "execution_count": 5,
   "metadata": {},
   "outputs": [],
   "source": [
    "# Convierte la lista a un arreglo\n",
    "tabla = np.array(tabla)\n",
    "n = len(tabla)"
   ]
  },
  {
   "cell_type": "code",
   "execution_count": 6,
   "metadata": {},
   "outputs": [
    {
     "name": "stdout",
     "output_type": "stream",
     "text": [
      "['xi', 'xn', 'tramo']\n",
      "[[6.4000e-08 4.5165e-08 1.8835e-08]]\n",
      "raiz en: 4.5165318784870294e-08\n",
      "con error de:  1.883468121512971e-08\n"
     ]
    }
   ],
   "source": [
    "# Output\n",
    "print(['xi', 'xn', 'tramo'])\n",
    "np.set_printoptions(precision=4)\n",
    "print(tabla)\n",
    "print('raiz en:', xi)\n",
    "print('con error de: ', tramo)"
   ]
  },
  {
   "cell_type": "code",
   "execution_count": null,
   "metadata": {},
   "outputs": [],
   "source": []
  },
  {
   "cell_type": "code",
   "execution_count": null,
   "metadata": {},
   "outputs": [],
   "source": []
  }
 ],
 "metadata": {
  "interpreter": {
   "hash": "555bf2ce9e8f4c044eaa525442ffdc0cf83e8bb9dec4fd444527dad25ba5d4ac"
  },
  "kernelspec": {
   "display_name": "Python 3.9.7 ('base')",
   "language": "python",
   "name": "python3"
  },
  "language_info": {
   "codemirror_mode": {
    "name": "ipython",
    "version": 3
   },
   "file_extension": ".py",
   "mimetype": "text/x-python",
   "name": "python",
   "nbconvert_exporter": "python",
   "pygments_lexer": "ipython3",
   "version": "3.9.7"
  },
  "orig_nbformat": 4
 },
 "nbformat": 4,
 "nbformat_minor": 2
}
