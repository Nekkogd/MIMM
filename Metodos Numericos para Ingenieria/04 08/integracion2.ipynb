{
 "cells": [
  {
   "cell_type": "code",
   "execution_count": 12,
   "metadata": {},
   "outputs": [],
   "source": [
    "import numpy as np\n",
    "import sympy as sp\n",
    "from sympy.abc import x\n",
    "from scipy import integrate\n",
    "\n",
    "#a = -1\n",
    "#b = 5\n",
    "#f=(x*cos(x)+(x^3+1)*exp(-x))\n",
    "\n",
    "#int_teo = sp.integrate((x*sp.cos(x)+(x**3+1)*sp.exp(-x)),\n",
    "int_teo = integrate.quad\n",
    "(x,-1,5))"
   ]
  },
  {
   "cell_type": "code",
   "execution_count": 13,
   "metadata": {},
   "outputs": [
    {
     "data": {
      "text/latex": [
       "$\\displaystyle 5 \\sin{\\left(5 \\right)} - \\frac{237}{e^{5}} - \\sin{\\left(1 \\right)} - \\cos{\\left(1 \\right)} + \\cos{\\left(5 \\right)} + 3 e$"
      ],
      "text/plain": [
       "5*sin(5) - 237*exp(-5) - sin(1) - cos(1) + cos(5) + 3*E"
      ]
     },
     "execution_count": 13,
     "metadata": {},
     "output_type": "execute_result"
    }
   ],
   "source": [
    "int_teo"
   ]
  },
  {
   "cell_type": "code",
   "execution_count": null,
   "metadata": {},
   "outputs": [],
   "source": []
  }
 ],
 "metadata": {
  "interpreter": {
   "hash": "555bf2ce9e8f4c044eaa525442ffdc0cf83e8bb9dec4fd444527dad25ba5d4ac"
  },
  "kernelspec": {
   "display_name": "Python 3.9.7 ('base')",
   "language": "python",
   "name": "python3"
  },
  "language_info": {
   "codemirror_mode": {
    "name": "ipython",
    "version": 3
   },
   "file_extension": ".py",
   "mimetype": "text/x-python",
   "name": "python",
   "nbconvert_exporter": "python",
   "pygments_lexer": "ipython3",
   "version": "3.9.7"
  },
  "orig_nbformat": 4
 },
 "nbformat": 4,
 "nbformat_minor": 2
}
