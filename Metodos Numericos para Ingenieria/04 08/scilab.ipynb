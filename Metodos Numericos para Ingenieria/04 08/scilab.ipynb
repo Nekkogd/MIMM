{
 "cells": [
  {
   "cell_type": "code",
   "execution_count": null,
   "metadata": {
    "vscode": {
     "languageId": "python"
    }
   },
   "outputs": [],
   "source": [
    "ipython qtconsole --kernel scilab\n",
    "ipython console --kernel scilab"
   ]
  },
  {
   "cell_type": "code",
   "execution_count": null,
   "metadata": {},
   "outputs": [],
   "source": [
    "function [o] = suma(a,b), a + b = o, endfunction"
   ]
  },
  {
   "cell_type": "code",
   "execution_count": null,
   "metadata": {},
   "outputs": [],
   "source": [
    "n = suma(4,5)"
   ]
  },
  {
   "cell_type": "code",
   "execution_count": null,
   "metadata": {},
   "outputs": [],
   "source": [
    "print(n)"
   ]
  },
  {
   "cell_type": "code",
   "execution_count": null,
   "metadata": {},
   "outputs": [],
   "source": []
  }
 ],
 "metadata": {
  "interpreter": {
   "hash": "555bf2ce9e8f4c044eaa525442ffdc0cf83e8bb9dec4fd444527dad25ba5d4ac"
  },
  "kernelspec": {
   "display_name": "Scilab",
   "language": "scilab",
   "name": "python397jvsc74a57bd0555bf2ce9e8f4c044eaa525442ffdc0cf83e8bb9dec4fd444527dad25ba5d4ac"
  },
  "language_info": {
   "codemirror_mode": {
    "name": "ipython",
    "version": 3
   },
   "file_extension": ".py",
   "mimetype": "text/x-python",
   "name": "scilab",
   "nbconvert_exporter": "python",
   "pygments_lexer": "ipython3",
   "version": "3.9.7"
  },
  "orig_nbformat": 4
 },
 "nbformat": 4,
 "nbformat_minor": 2
}
