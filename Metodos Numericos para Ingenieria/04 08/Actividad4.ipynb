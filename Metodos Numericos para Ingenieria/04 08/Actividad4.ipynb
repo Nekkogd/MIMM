{
 "cells": [
  {
   "cell_type": "markdown",
   "metadata": {},
   "source": [
    "# Actividad 4 \n",
    "# Halle el factor de fricción f a partir de la solucion numérica de la ecuación de Colebrook-White para una rugosidad relativa de etha/D = 0.00005 y el número de Reynolds Re= 10e8"
   ]
  },
  {
   "cell_type": "code",
   "execution_count": 1,
   "metadata": {},
   "outputs": [],
   "source": [
    "import numpy as np"
   ]
  },
  {
   "cell_type": "code",
   "execution_count": 7,
   "metadata": {},
   "outputs": [
    {
     "name": "stdout",
     "output_type": "stream",
     "text": [
      "6.4e-07\n"
     ]
    }
   ],
   "source": [
    "# Inputs \n",
    "r = 0.00005\n",
    "Re =10**8\n",
    "x0 = 64/Re\n",
    "tol = 1e-7\n",
    "fx = lambda x,r,Re: 1/np.sqrt(x) + (2*np.log10((2.51/(Re*np.sqrt(x)))+(r/3.71)))\n",
    "dfx = lambda x,r,Re: (-0.5 / (x*np.sqrt(x))) - ((2/np.log(10)) * ((2.52/(Re*np.sqrt(x))) / ((2.52/(Re*np.sqrt(x))) + (r/3.71))))\n",
    "\n",
    "print(x0)"
   ]
  },
  {
   "cell_type": "code",
   "execution_count": 8,
   "metadata": {},
   "outputs": [
    {
     "name": "stdout",
     "output_type": "stream",
     "text": [
      "1.911094850126107e-06 -1.2710948501261073e-06 1241.3035653495117 -976562500.608322 1.271094850126107e-06\n",
      "5.685731146992111e-06 -3.7746362968660037e-06 714.3676081730603 -189254686.27697554 3.7746362968660037e-06\n",
      "1.6806665698308843e-05 -1.1120934551316734e-05 410.13970406298904 -36879967.43173243 1.1120934551316732e-05\n",
      "4.912253018091709e-05 -3.2315864482608245e-05 234.51112844222425 -7256842.179432752 3.2315864482608245e-05\n",
      "0.00014080124276822037 -9.167871258730329e-05 133.1427346638732 -1452275.3527661592 9.167871258730328e-05\n",
      "0.00039027799222827883 -0.00024947674946005846 74.66043579914152 -299268.112001334 0.00024947674946005846\n",
      "0.0010218343297813553 -0.0006315563375530766 40.95637508582492 -64849.91543986035 0.0006315563375530766\n",
      "0.002432362344534515 -0.0014105280147531597 21.591476826353354 -15307.371849776291 0.0014105280147531597\n",
      "0.0049677457101287 -0.002535383365594185 10.56755555718619 -4168.030642068052 0.0025353833655941847\n",
      "0.00809780105503291 -0.0031300553449042103 4.469817714642652 -1428.0315272762189 0.0031300553449042107\n",
      "0.010122967894280036 -0.002025166839247126 1.389604936666922 -686.1681268608568 0.002025166839247125\n",
      "0.010559281511897365 -0.0004363136176173301 0.214200757624619 -490.9330100544427 0.0004363136176173295\n",
      "0.010573086490602932 -1.3804978705567309e-05 0.0063616360918405945 -460.8218692343985 1.3804978705567184e-05\n",
      "0.010573078548777445 7.941825486398026e-09 -3.652601687775814e-06 -459.91966129596136 7.941825487176035e-09\n"
     ]
    }
   ],
   "source": [
    "# Procedimiento\n",
    "tabla = []\n",
    "tramo = abs(2*tol)\n",
    "xi = x0\n",
    "\n",
    "while (tramo >= tol):\n",
    "    xn = (xi - (fx(xi,r,Re)/dfx(xi,r,Re)))\n",
    "    k = dfx(xi,r,Re)\n",
    "    g = fx(xi,r,Re)\n",
    "    n = g/k\n",
    "    tramo = abs(xn - xi)\n",
    "    tabla.append([xi, xn, tramo])\n",
    "    xi = abs(xn)\n",
    "    print(xi, n, g, k, tramo)"
   ]
  },
  {
   "cell_type": "code",
   "execution_count": 9,
   "metadata": {},
   "outputs": [],
   "source": [
    "# Convierte la lista a un arreglo\n",
    "tabla = np.array(tabla)\n",
    "n = len(tabla)"
   ]
  },
  {
   "cell_type": "code",
   "execution_count": 10,
   "metadata": {},
   "outputs": [
    {
     "name": "stdout",
     "output_type": "stream",
     "text": [
      "['xi', 'xn', 'tramo']\n",
      "[[6.4000e-07 1.9111e-06 1.2711e-06]\n",
      " [1.9111e-06 5.6857e-06 3.7746e-06]\n",
      " [5.6857e-06 1.6807e-05 1.1121e-05]\n",
      " [1.6807e-05 4.9123e-05 3.2316e-05]\n",
      " [4.9123e-05 1.4080e-04 9.1679e-05]\n",
      " [1.4080e-04 3.9028e-04 2.4948e-04]\n",
      " [3.9028e-04 1.0218e-03 6.3156e-04]\n",
      " [1.0218e-03 2.4324e-03 1.4105e-03]\n",
      " [2.4324e-03 4.9677e-03 2.5354e-03]\n",
      " [4.9677e-03 8.0978e-03 3.1301e-03]\n",
      " [8.0978e-03 1.0123e-02 2.0252e-03]\n",
      " [1.0123e-02 1.0559e-02 4.3631e-04]\n",
      " [1.0559e-02 1.0573e-02 1.3805e-05]\n",
      " [1.0573e-02 1.0573e-02 7.9418e-09]]\n",
      "raiz en: 0.010573078548777445\n",
      "con error de:  7.941825487176035e-09\n"
     ]
    }
   ],
   "source": [
    "#Output\n",
    "\n",
    "print(['xi', 'xn', 'tramo'])\n",
    "np.set_printoptions(precision=4)\n",
    "print(tabla)\n",
    "print('raiz en:', xi)\n",
    "print('con error de: ', tramo)"
   ]
  },
  {
   "cell_type": "code",
   "execution_count": null,
   "metadata": {},
   "outputs": [],
   "source": []
  }
 ],
 "metadata": {
  "interpreter": {
   "hash": "555bf2ce9e8f4c044eaa525442ffdc0cf83e8bb9dec4fd444527dad25ba5d4ac"
  },
  "kernelspec": {
   "display_name": "Python 3.9.7 ('base')",
   "language": "python",
   "name": "python3"
  },
  "language_info": {
   "codemirror_mode": {
    "name": "ipython",
    "version": 3
   },
   "file_extension": ".py",
   "mimetype": "text/x-python",
   "name": "python",
   "nbconvert_exporter": "python",
   "pygments_lexer": "ipython3",
   "version": "3.9.7"
  },
  "orig_nbformat": 4
 },
 "nbformat": 4,
 "nbformat_minor": 2
}
