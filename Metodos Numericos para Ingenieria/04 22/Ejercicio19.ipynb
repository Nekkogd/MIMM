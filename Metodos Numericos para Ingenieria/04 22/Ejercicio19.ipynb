{
 "cells": [
  {
   "cell_type": "markdown",
   "metadata": {},
   "source": [
    "# Ejercicio 2\n"
   ]
  },
  {
   "cell_type": "code",
   "execution_count": 191,
   "metadata": {},
   "outputs": [],
   "source": [
    "import numpy as np"
   ]
  },
  {
   "cell_type": "code",
   "execution_count": 192,
   "metadata": {},
   "outputs": [],
   "source": [
    "R = lambda u: -u*np.sqrt(u)\n",
    "m = 10\n",
    "u_0 = 10\n",
    "u_f = 5\n",
    "#u_f = 7.765\n",
    "intervalos = 1000\n",
    "du = abs((u_f-u_0)/intervalos)\n",
    "f = []\n",
    "c=0"
   ]
  },
  {
   "cell_type": "code",
   "execution_count": 193,
   "metadata": {},
   "outputs": [],
   "source": [
    "c=0\n",
    "for n in range(intervalos+1):\n",
    "    u = u_0 - (du*n)\n",
    "    f.append(m/R(u))\n",
    "#print(du , f)"
   ]
  },
  {
   "cell_type": "markdown",
   "metadata": {},
   "source": [
    "## Simpson"
   ]
  },
  {
   "cell_type": "markdown",
   "metadata": {},
   "source": [
    "### Parte A"
   ]
  },
  {
   "cell_type": "code",
   "execution_count": 194,
   "metadata": {},
   "outputs": [
    {
     "data": {
      "text/plain": [
       "-2.6197165896627093"
      ]
     },
     "execution_count": 194,
     "metadata": {},
     "output_type": "execute_result"
    }
   ],
   "source": [
    "t = 0\n",
    "for k in range(0,intervalos,2):\n",
    "   t = t + ((du/3)*(f[k]+(4*f[k+1])+f[k+2]))\n",
    "   #print(k,t, f[k])\n",
    "t"
   ]
  },
  {
   "cell_type": "markdown",
   "metadata": {},
   "source": [
    "### Parte B"
   ]
  },
  {
   "cell_type": "code",
   "execution_count": 195,
   "metadata": {},
   "outputs": [
    {
     "name": "stdout",
     "output_type": "stream",
     "text": [
      "en t =  -2.001553622099663  la velocidad es:  7.885\n"
     ]
    }
   ],
   "source": [
    "t1 = 0\n",
    "ñ = 0\n",
    "k = 0\n",
    "while t1 > -2 and k <= intervalos:\n",
    "    t1 = t1 + ((du/3)*(f[k]+(4*f[k+1])+f[k+2]))\n",
    "    #print(k,t1,f[k])\n",
    "    k = k + 2\n",
    "    ñ = ñ + 1\n",
    "vs = u_0 - (du*(ñ))\n",
    "print ('en t = ',t1,' la velocidad es: ',vs)"
   ]
  },
  {
   "cell_type": "markdown",
   "metadata": {},
   "source": [
    "## Rectangulo"
   ]
  },
  {
   "cell_type": "markdown",
   "metadata": {},
   "source": [
    "### Parte A"
   ]
  },
  {
   "cell_type": "code",
   "execution_count": 196,
   "metadata": {},
   "outputs": [
    {
     "data": {
      "text/plain": [
       "-2.618271551295682"
      ]
     },
     "execution_count": 196,
     "metadata": {},
     "output_type": "execute_result"
    }
   ],
   "source": [
    "rec = 0\n",
    "for d in range(intervalos):\n",
    "    rec = rec + du*f[d]\n",
    "rec"
   ]
  },
  {
   "cell_type": "markdown",
   "metadata": {},
   "source": [
    "### Parte B"
   ]
  },
  {
   "cell_type": "code",
   "execution_count": 197,
   "metadata": {},
   "outputs": [
    {
     "name": "stdout",
     "output_type": "stream",
     "text": [
      "en t =  -2.000540733682791  la velocidad es:  5.77\n"
     ]
    }
   ],
   "source": [
    "rec2 = 0\n",
    "ñ = 0\n",
    "k = 0\n",
    "while rec2 > -2 and k <= intervalos:\n",
    "    rec2 = rec2 + du*f[k]\n",
    "    ñ = ñ + 1\n",
    "    k = k +  1\n",
    "vr = u_0 - (du*(ñ))\n",
    "print ('en t = ',rec2,' la velocidad es: ',vr)"
   ]
  },
  {
   "cell_type": "markdown",
   "metadata": {},
   "source": [
    "## Trapesio"
   ]
  },
  {
   "cell_type": "markdown",
   "metadata": {},
   "source": [
    "### Parte A"
   ]
  },
  {
   "cell_type": "code",
   "execution_count": 198,
   "metadata": {},
   "outputs": [
    {
     "data": {
      "text/plain": [
       "-2.619717049858138"
      ]
     },
     "execution_count": 198,
     "metadata": {},
     "output_type": "execute_result"
    }
   ],
   "source": [
    "tr = 0\n",
    "for q in range(intervalos):\n",
    "    tr = tr + (f[q]*du + ((f[q+1]-f[q])*(du/2)))\n",
    "tr"
   ]
  },
  {
   "cell_type": "markdown",
   "metadata": {},
   "source": [
    "### Parte B"
   ]
  },
  {
   "cell_type": "code",
   "execution_count": 199,
   "metadata": {},
   "outputs": [
    {
     "name": "stdout",
     "output_type": "stream",
     "text": [
      "en t =  -2.001553914038639  la velocidad es:  5.77\n"
     ]
    }
   ],
   "source": [
    "tr2 = 0\n",
    "ñ = 0\n",
    "k = 0\n",
    "while tr2 > -2 and k <= intervalos:\n",
    "    tr2 = tr2 + (f[k]*du + ((f[k+1]-f[k])*(du/2)))\n",
    "    ñ = ñ + 1\n",
    "    k = k +  1\n",
    "vt = u_0 - (du*(ñ))\n",
    "print ('en t = ',tr2,' la velocidad es: ',vt)\n"
   ]
  }
 ],
 "metadata": {
  "interpreter": {
   "hash": "555bf2ce9e8f4c044eaa525442ffdc0cf83e8bb9dec4fd444527dad25ba5d4ac"
  },
  "kernelspec": {
   "display_name": "Python 3.9.7 ('base')",
   "language": "python",
   "name": "python3"
  },
  "language_info": {
   "codemirror_mode": {
    "name": "ipython",
    "version": 3
   },
   "file_extension": ".py",
   "mimetype": "text/x-python",
   "name": "python",
   "nbconvert_exporter": "python",
   "pygments_lexer": "ipython3",
   "version": "3.9.7"
  },
  "orig_nbformat": 4
 },
 "nbformat": 4,
 "nbformat_minor": 2
}
