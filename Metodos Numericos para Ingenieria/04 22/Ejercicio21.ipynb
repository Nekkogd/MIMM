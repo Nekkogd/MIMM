{
 "cells": [
  {
   "cell_type": "markdown",
   "metadata": {},
   "source": [
    "# Ejercicio 3"
   ]
  },
  {
   "cell_type": "code",
   "execution_count": 8,
   "metadata": {},
   "outputs": [],
   "source": [
    "import numpy as np"
   ]
  },
  {
   "cell_type": "code",
   "execution_count": 9,
   "metadata": {},
   "outputs": [],
   "source": [
    "tol = 10**-4\n",
    "t = lambda x: np.sqrt(1+((np.cos(x))**2))"
   ]
  },
  {
   "cell_type": "code",
   "execution_count": 10,
   "metadata": {},
   "outputs": [],
   "source": [
    "x0 = 0\n",
    "xf = 48\n",
    "intervalo = 0\n",
    "\n",
    "w = 1\n",
    "si0 = 0\n",
    "rec0 = 0 \n",
    "h = 0"
   ]
  },
  {
   "cell_type": "markdown",
   "metadata": {},
   "source": [
    "## Simpson"
   ]
  },
  {
   "cell_type": "code",
   "execution_count": 11,
   "metadata": {},
   "outputs": [
    {
     "data": {
      "text/plain": [
       "58.47081304568121"
      ]
     },
     "execution_count": 11,
     "metadata": {},
     "output_type": "execute_result"
    }
   ],
   "source": [
    "while w>tol:\n",
    "    intervalo = intervalo + 10\n",
    "    dx = (xf-x0)/intervalo\n",
    "\n",
    "    c=0\n",
    "    f = []\n",
    "    for n in range(intervalo+1):\n",
    "        x = xf - (dx*n)\n",
    "        f.append(t(x))\n",
    "        c = c+1\n",
    "\n",
    "    si = 0\n",
    "    for i in range(0,intervalo,2):\n",
    "        si = si + ((dx/3)*(f[i]+(4*f[i+1])+f[i+2]))\n",
    "    h = h +1\n",
    "    w = abs(si - si0)\n",
    "    si0 = si\n",
    "\n",
    "si"
   ]
  },
  {
   "cell_type": "markdown",
   "metadata": {},
   "source": [
    "## Rectangulo"
   ]
  },
  {
   "cell_type": "code",
   "execution_count": 12,
   "metadata": {},
   "outputs": [
    {
     "data": {
      "text/plain": [
       "58.46316711971454"
      ]
     },
     "execution_count": 12,
     "metadata": {},
     "output_type": "execute_result"
    }
   ],
   "source": [
    "w = 1\n",
    "while w>tol:\n",
    "    intervalo = intervalo + 10\n",
    "    dx = (xf-x0)/intervalo\n",
    "\n",
    "    c=0\n",
    "    f = []\n",
    "    for n in range(intervalo+1):\n",
    "        x = xf - (dx*n)\n",
    "        f.append(t(x))\n",
    "        c = c+1\n",
    "\n",
    "    rec = 0\n",
    "    for i in range(intervalo):\n",
    "        rec = rec + dx*f[i]\n",
    "    h = h +1\n",
    "    w = abs(rec - rec0)\n",
    "    rec0 =rec\n",
    "rec"
   ]
  },
  {
   "cell_type": "markdown",
   "metadata": {},
   "source": [
    "## Trapesio"
   ]
  },
  {
   "cell_type": "markdown",
   "metadata": {},
   "source": []
  },
  {
   "cell_type": "code",
   "execution_count": 13,
   "metadata": {},
   "outputs": [
    {
     "data": {
      "text/plain": [
       "58.47033498980681"
      ]
     },
     "execution_count": 13,
     "metadata": {},
     "output_type": "execute_result"
    }
   ],
   "source": [
    "w = 1\n",
    "tr0 = 0\n",
    "while w>tol:\n",
    "    intervalo = intervalo + 10\n",
    "    dx = (xf-x0)/intervalo\n",
    "\n",
    "    c=0\n",
    "    f = []\n",
    "    for n in range(intervalo+1):\n",
    "        x = xf - (dx*n)\n",
    "        f.append(t(x))\n",
    "        c = c+1\n",
    "\n",
    "    tr = 0\n",
    "    for i in range(intervalo):\n",
    "        tr = tr + (f[i]*dx + ((f[i+1]-f[i])*(dx/2)))\n",
    "    h = h +1\n",
    "    w = abs(rec - rec0)\n",
    "    tr0 =tr\n",
    "tr"
   ]
  },
  {
   "cell_type": "code",
   "execution_count": null,
   "metadata": {},
   "outputs": [],
   "source": []
  }
 ],
 "metadata": {
  "interpreter": {
   "hash": "555bf2ce9e8f4c044eaa525442ffdc0cf83e8bb9dec4fd444527dad25ba5d4ac"
  },
  "kernelspec": {
   "display_name": "Python 3.9.7 ('base')",
   "language": "python",
   "name": "python3"
  },
  "language_info": {
   "codemirror_mode": {
    "name": "ipython",
    "version": 3
   },
   "file_extension": ".py",
   "mimetype": "text/x-python",
   "name": "python",
   "nbconvert_exporter": "python",
   "pygments_lexer": "ipython3",
   "version": "3.9.7"
  },
  "orig_nbformat": 4
 },
 "nbformat": 4,
 "nbformat_minor": 2
}
