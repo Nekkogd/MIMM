{
 "cells": [
  {
   "cell_type": "markdown",
   "metadata": {},
   "source": [
    "# Ejercicio 4"
   ]
  },
  {
   "cell_type": "code",
   "execution_count": 1,
   "metadata": {},
   "outputs": [],
   "source": [
    "r = [0.308,0.325,0.342,0.359,0.376,0.393,0.410,0.427,0.444,0.461,0.478]\n",
    "Temp = [640,794,885,943,1034,1064,1114,1152,1204,1222,1239]\n",
    "dr = 0.017\n",
    "intervalo = 10\n",
    "ang = 0.7051 #radianes\n",
    "F1 = []\n",
    "F2 = []\n",
    "\n",
    "for k in range(0,intervalo+1):\n",
    "    F1.append(Temp[k]*r[k]*ang*dr)\n",
    "\n",
    "for h in range(0,intervalo+1):\n",
    "    F2.append(r[h]*ang*dr)"
   ]
  },
  {
   "cell_type": "markdown",
   "metadata": {},
   "source": [
    "### Simpson"
   ]
  },
  {
   "cell_type": "code",
   "execution_count": 2,
   "metadata": {},
   "outputs": [
    {
     "name": "stdout",
     "output_type": "stream",
     "text": [
      "1054.693977947413\n"
     ]
    }
   ],
   "source": [
    "si1 = 0\n",
    "for i in range(0,intervalo,2):\n",
    "    si1 = si1 + ((dr/3)*(F1[i]+(4*F1[i+1])+F1[i+2]))\n",
    "    #print(F1[i],F1[i+1],F1[i+2],si1)\n",
    "\n",
    "si2 = 0\n",
    "for j in range(0,intervalo,2):\n",
    "    si2 = si2 + ((dr/3)*(F2[j]+(4*F2[j+1])+F2[j+2]))\n",
    "    #print(F2[j],F2[j+1],F2[j+2],si2)\n",
    "t = si1/si2\n",
    "#print(si1,si2,t)\n",
    "print(t)"
   ]
  },
  {
   "cell_type": "markdown",
   "metadata": {},
   "source": [
    "### Rectangulo"
   ]
  },
  {
   "cell_type": "code",
   "execution_count": 5,
   "metadata": {},
   "outputs": [
    {
     "name": "stdout",
     "output_type": "stream",
     "text": [
      "1027.2756827048113\n"
     ]
    }
   ],
   "source": [
    "rec1 = 0\n",
    "for o in range(intervalo):\n",
    "    rec1 = rec1 + F1[o]*dr\n",
    "\n",
    "rec2 = 0\n",
    "for p in range(intervalo):\n",
    "    rec2 = rec2 + F2[p]*dr\n",
    "\n",
    "tr = rec1/rec2\n",
    "\n",
    "print(tr)"
   ]
  },
  {
   "cell_type": "markdown",
   "metadata": {},
   "source": [
    "### Trapesio"
   ]
  },
  {
   "cell_type": "code",
   "execution_count": 9,
   "metadata": {},
   "outputs": [
    {
     "name": "stdout",
     "output_type": "stream",
     "text": [
      "1055.3272264631041\n"
     ]
    }
   ],
   "source": [
    "tr1 = 0\n",
    "for i in range(intervalo):\n",
    "    tr1 = tr1 + (F1[i]*dr + ((F1[i+1]-F1[i])*(dr/2)))\n",
    "\n",
    "tr2 = 0\n",
    "for w in range(intervalo):\n",
    "    tr2 = tr2 + (F2[w]*dr + ((F2[w+1]-F2[w])*(dr/2)))\n",
    "\n",
    "tt = tr1/tr2\n",
    "print(tt)"
   ]
  },
  {
   "cell_type": "code",
   "execution_count": null,
   "metadata": {},
   "outputs": [],
   "source": []
  }
 ],
 "metadata": {
  "interpreter": {
   "hash": "555bf2ce9e8f4c044eaa525442ffdc0cf83e8bb9dec4fd444527dad25ba5d4ac"
  },
  "kernelspec": {
   "display_name": "Python 3.9.7 ('base')",
   "language": "python",
   "name": "python3"
  },
  "language_info": {
   "codemirror_mode": {
    "name": "ipython",
    "version": 3
   },
   "file_extension": ".py",
   "mimetype": "text/x-python",
   "name": "python",
   "nbconvert_exporter": "python",
   "pygments_lexer": "ipython3",
   "version": "3.9.7"
  },
  "orig_nbformat": 4
 },
 "nbformat": 4,
 "nbformat_minor": 2
}
