{
 "cells": [
  {
   "cell_type": "code",
   "execution_count": 18,
   "metadata": {},
   "outputs": [],
   "source": [
    "A = [[10,-1,2,0],[-1,11,-1,3],[2,-1,10,-1],[0,3,-1,8]]\n",
    "x_0 = [0,0,0,0]\n",
    "b = [6,25,-11,15]"
   ]
  },
  {
   "cell_type": "code",
   "execution_count": 19,
   "metadata": {},
   "outputs": [],
   "source": [
    "x1 = lambda x2,x3: (6+x2-2*x3)/10\n",
    "x2 = lambda x1,x3,x4: (25+x1+x3-3*x4)/11\n",
    "x3 = lambda x1,x2,x4: (-11-2*x1+x2+x4)/10\n",
    "x4 = lambda x2,x3: (15-3*x2+x3)/8"
   ]
  },
  {
   "cell_type": "markdown",
   "metadata": {},
   "source": [
    "# Jacobi"
   ]
  },
  {
   "cell_type": "code",
   "execution_count": 20,
   "metadata": {},
   "outputs": [],
   "source": [
    "s1 = [0]\n",
    "s2 = [0]\n",
    "s3 = [0]\n",
    "s4 = [0]\n",
    "for i in range(10):\n",
    "    s1.append(x1(s2[i],s3[i]))\n",
    "    s2.append(x2(s1[i],s3[i],s4[i]))\n",
    "    s3.append(x3(s1[i],s2[i],s4[i]))\n",
    "    s4.append(x4(s2[i],s3[i]))\n",
    "\n",
    "J = [s1,s2,s3,s4]"
   ]
  },
  {
   "cell_type": "markdown",
   "metadata": {},
   "source": [
    "# Gauss-Seidel"
   ]
  },
  {
   "cell_type": "code",
   "execution_count": 21,
   "metadata": {},
   "outputs": [],
   "source": [
    "g1 = [0]\n",
    "g2 = [0]\n",
    "g3 = [0]\n",
    "g4 = [0]\n",
    "for i in range(10):\n",
    "    g1.append(x1(g2[i],g3[i]))\n",
    "    g2.append(x2(g1[i+1],g3[i],g4[i]))\n",
    "    g3.append(x3(g1[i+1],g2[i+1],g4[i]))\n",
    "    g4.append(x4(g2[i+1],g3[i+1]))\n",
    "\n",
    "G = [s1,s2,s3,s4]"
   ]
  },
  {
   "cell_type": "code",
   "execution_count": null,
   "metadata": {},
   "outputs": [],
   "source": []
  }
 ],
 "metadata": {
  "interpreter": {
   "hash": "555bf2ce9e8f4c044eaa525442ffdc0cf83e8bb9dec4fd444527dad25ba5d4ac"
  },
  "kernelspec": {
   "display_name": "Python 3.9.7 ('base')",
   "language": "python",
   "name": "python3"
  },
  "language_info": {
   "codemirror_mode": {
    "name": "ipython",
    "version": 3
   },
   "file_extension": ".py",
   "mimetype": "text/x-python",
   "name": "python",
   "nbconvert_exporter": "python",
   "pygments_lexer": "ipython3",
   "version": "3.9.7"
  },
  "orig_nbformat": 4
 },
 "nbformat": 4,
 "nbformat_minor": 2
}
