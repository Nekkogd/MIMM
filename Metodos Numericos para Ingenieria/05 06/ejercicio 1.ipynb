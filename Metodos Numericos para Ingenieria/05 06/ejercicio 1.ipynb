{
 "cells": [
  {
   "cell_type": "code",
   "execution_count": 9,
   "metadata": {},
   "outputs": [],
   "source": [
    "import numpy as np"
   ]
  },
  {
   "cell_type": "code",
   "execution_count": 10,
   "metadata": {},
   "outputs": [],
   "source": [
    "x1 = lambda b,c: (np.cos(b*c)/3)+(1/6)\n",
    "x2 = lambda a,b: ((np.sqrt((a**2)+(np.sin(b))+1.06))/9)-0.1\n",
    "x3 = lambda a,b: ((-1/20)*np.exp(-a*b))-(((10*np.pi)-3)/60)"
   ]
  },
  {
   "cell_type": "code",
   "execution_count": 11,
   "metadata": {},
   "outputs": [],
   "source": [
    "j1=[0]\n",
    "j2=[0]\n",
    "j3=[0]\n",
    "for k in range(10):\n",
    "    j1.append(x1(j2[k],j3[k]))\n",
    "    j2.append(x2(j1[k],j3[k]))\n",
    "    j3.append(x3(j1[k],j2[k]))\n",
    "J = [j1,j2,j3]"
   ]
  },
  {
   "cell_type": "code",
   "execution_count": 12,
   "metadata": {},
   "outputs": [],
   "source": [
    "g1=[0]\n",
    "g2=[0]\n",
    "g3=[0]\n",
    "for r in range(10):\n",
    "    g1.append(x1(g2[r],g3[r]))\n",
    "    g2.append(x2(g1[r+1],g3[r]))\n",
    "    g3.append(x3(g1[r+1],g2[r+1]))\n",
    "G = [g1,g2,g3]"
   ]
  }
 ],
 "metadata": {
  "interpreter": {
   "hash": "c40244537d48a44f0f78aa85e3d97623f79e3c29b841a6836e13fdebcc7dc535"
  },
  "kernelspec": {
   "display_name": "Python 3.9.7 ('base')",
   "language": "python",
   "name": "python3"
  },
  "language_info": {
   "codemirror_mode": {
    "name": "ipython",
    "version": 3
   },
   "file_extension": ".py",
   "mimetype": "text/x-python",
   "name": "python",
   "nbconvert_exporter": "python",
   "pygments_lexer": "ipython3",
   "version": "3.9.7"
  },
  "orig_nbformat": 4
 },
 "nbformat": 4,
 "nbformat_minor": 2
}
