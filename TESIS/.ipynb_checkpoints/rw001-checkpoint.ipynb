{
 "cells": [
  {
   "cell_type": "markdown",
   "metadata": {},
   "source": [
    "# RW001"
   ]
  },
  {
   "cell_type": "markdown",
   "metadata": {},
   "source": [
    "Importación de librerias"
   ]
  },
  {
   "cell_type": "code",
   "execution_count": null,
   "metadata": {},
   "outputs": [],
   "source": [
    "import pandas as pd\n",
    "import numpy as np\n",
    "import matplotlib.pyplot as plt"
   ]
  },
  {
   "cell_type": "markdown",
   "metadata": {},
   "source": [
    "Importación de datos"
   ]
  },
  {
   "cell_type": "code",
   "execution_count": null,
   "metadata": {},
   "outputs": [],
   "source": [
    "#Definición de readfile()\n",
    "def readfile(a):\n",
    "   # sea a el nombre del archivo tsv de forma 'file.tsv'\n",
    "   iterables=[['Upstream - 1', 'Upstream - 2', 'Upstream - 3', 'Upstream - 4',\n",
    "      'Downstream - 1', 'Downstream - 2', 'Downstream - 3', 'Downstream - 4'], ['X','Y','Z']]\n",
    "\n",
    "   index = pd.MultiIndex.from_product(iterables, names=['first', 'second'])\n",
    "   a = str(a)\n",
    "   b = pd.read_table(a,delimiter='\\t', header=0, names=index)\n",
    "   return b"
   ]
  },
  {
   "cell_type": "code",
   "execution_count": null,
   "metadata": {},
   "outputs": [],
   "source": [
    "#Definición de graf()\n",
    "def graf(tit,amp,data):\n",
    "    f = 250;\n",
    "    dt = 1/f;\n",
    "    frames = 22500-1;\n",
    "    tf = frames/f;\n",
    "    t = np.linspace(0,tf,frames+1)\n",
    "\n",
    "    colors = ['b','r','g']\n",
    "    etiquetas = ['x','y','z']\n",
    "    fig = plt.figure(figsize = [10,15])\n",
    "    #fig.suptitle(tit,fontsize=16)\n",
    "\n",
    "    for i in range(3):   \n",
    "        ax = plt.subplot(3,1,i+1)\n",
    "        plt.plot(t,data[i],colors[i])\n",
    "        plt.xlabel('t')\n",
    "        plt.ylabel(f'desp({etiquetas[i]})')\n",
    "        plt.ylim(-amp,+amp)\n",
    "        plt.xlim(0,90)\n",
    "        plt.grid(which='major', color = 'black', alpha=0.75)\n",
    "        plt.grid(which='minor', color = 'black', alpha=0.25)\n",
    "        plt.minorticks_on()\n",
    "\n",
    "    return plt.show()"
   ]
  },
  {
   "cell_type": "markdown",
   "metadata": {},
   "source": [
    "Generación de gráficos para cada punto"
   ]
  },
  {
   "cell_type": "code",
   "execution_count": null,
   "metadata": {},
   "outputs": [],
   "source": [
    "# RW001\n",
    "db_001 = readfile('RW001_3D.tsv')"
   ]
  },
  {
   "cell_type": "code",
   "execution_count": null,
   "metadata": {},
   "outputs": [],
   "source": [
    "X =  db_001['Upstream - 1'].X.values - np.ones([len(db_001['Upstream - 1'].X.values),1])* db_001['Upstream - 1'].X.mean()"
   ]
  },
  {
   "cell_type": "code",
   "execution_count": null,
   "metadata": {},
   "outputs": [],
   "source": [
    "Y =  db_001['Upstream - 1'].Y.values - np.ones([len(db_001['Upstream - 1'].X.values),1])* db_001['Upstream - 1'].Y.mean()"
   ]
  },
  {
   "cell_type": "code",
   "execution_count": null,
   "metadata": {},
   "outputs": [],
   "source": [
    "Z =  db_001['Upstream - 1'].Z.values - np.ones([len(db_001['Upstream - 1'].X.values),1])* db_001['Upstream - 1'].Z.mean()"
   ]
  },
  {
   "cell_type": "code",
   "execution_count": null,
   "metadata": {},
   "outputs": [],
   "source": [
    "graf('RW001 - Upstream 1', 30,[X,Y,Z])"
   ]
  },
  {
   "cell_type": "code",
   "execution_count": null,
   "metadata": {},
   "outputs": [],
   "source": [
    "# graf('RW001 - Upstream 2', 30, db_001['Upstream - 2'])\n",
    "# graf('RW001 - Upstream 3', 30, db_001['Upstream - 3'])\n",
    "# graf('RW001 - Upstream 4', 30, db_001['Upstream - 4'])\n",
    "# graf('RW001 - Downstream 1', 30, db_001['Downstream - 1'])\n",
    "# graf('RW001 - Downstream 2', 30, db_001['Downstream - 2'])\n",
    "# graf('RW001 - Downstream 3', 30, db_001['Downstream - 3'])\n",
    "# graf('RW001 - Downstream 4', 30, db_001['Downstream - 4'])"
   ]
  },
  {
   "cell_type": "code",
   "execution_count": null,
   "metadata": {},
   "outputs": [],
   "source": [
    "# # RW002\n",
    "# db_002 = readfile('RW002_3D.tsv')\n",
    "# graf('RW002 - Upstream 1', 30, db_002['Upstream - 1'])\n",
    "# graf('RW002 - Upstream 2', 30, db_002['Upstream - 2'])\n",
    "# graf('RW002 - Upstream 3', 30, db_002['Upstream - 3'])\n",
    "# graf('RW002 - Upstream 4', 30, db_002['Upstream - 4'])\n",
    "# graf('RW002 - Downstream 1', 30, db_002['Downstream - 1'])\n",
    "# graf('RW002 - Downstream 2', 30, db_002['Downstream - 2'])\n",
    "# graf('RW002 - Downstream 3', 30, db_002['Downstream - 3'])\n",
    "# graf('RW002 - Downstream 4', 30, db_002['Downstream - 4'])"
   ]
  }
 ],
 "metadata": {
  "kernelspec": {
   "display_name": "Python 3 (ipykernel)",
   "language": "python",
   "name": "python3"
  },
  "language_info": {
   "codemirror_mode": {
    "name": "ipython",
    "version": 3
   },
   "file_extension": ".py",
   "mimetype": "text/x-python",
   "name": "python",
   "nbconvert_exporter": "python",
   "pygments_lexer": "ipython3",
   "version": "3.9.12"
  }
 },
 "nbformat": 4,
 "nbformat_minor": 2
}
